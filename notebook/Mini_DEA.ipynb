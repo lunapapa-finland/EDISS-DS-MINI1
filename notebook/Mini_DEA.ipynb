{
  "cells": [
    {
      "cell_type": "markdown",
      "metadata": {
        "id": "IflMTmJs2w9d"
      },
      "source": [
        "### Env Configurations"
      ]
    },
    {
      "cell_type": "markdown",
      "metadata": {
        "id": "Ce3fDFkf4yZh"
      },
      "source": [
        "#### installing Selenium and Selenium_stealth"
      ]
    },
    {
      "cell_type": "code",
      "execution_count": 31,
      "metadata": {
        "id": "9bxFH-us26v6"
      },
      "outputs": [],
      "source": [
        "%%capture\n",
        "%%shell\n",
        "# Add debian buster\n",
        "cat > /etc/apt/sources.list.d/debian.list <<'EOF'\n",
        "deb [arch=amd64 signed-by=/usr/share/keyrings/debian-buster.gpg] http://deb.debian.org/debian buster main\n",
        "deb [arch=amd64 signed-by=/usr/share/keyrings/debian-buster-updates.gpg] http://deb.debian.org/debian buster-updates main\n",
        "deb [arch=amd64 signed-by=/usr/share/keyrings/debian-security-buster.gpg] http://deb.debian.org/debian-security buster/updates main\n",
        "EOF\n",
        "\n",
        "# Add keys\n",
        "apt-key adv --keyserver keyserver.ubuntu.com --recv-keys DCC9EFBF77E11517\n",
        "apt-key adv --keyserver keyserver.ubuntu.com --recv-keys 648ACFD622F3D138\n",
        "apt-key adv --keyserver keyserver.ubuntu.com --recv-keys 112695A0E562B32A\n",
        "\n",
        "apt-key export 77E11517 | gpg --dearmour -o /usr/share/keyrings/debian-buster.gpg\n",
        "apt-key export 22F3D138 | gpg --dearmour -o /usr/share/keyrings/debian-buster-updates.gpg\n",
        "apt-key export E562B32A | gpg --dearmour -o /usr/share/keyrings/debian-security-buster.gpg\n",
        "\n",
        "# Prefer debian repo for chromium* packages only\n",
        "# Note the double-blank lines between entries\n",
        "cat > /etc/apt/preferences.d/chromium.pref << 'EOF'\n",
        "Package: *\n",
        "Pin: release a=eoan\n",
        "Pin-Priority: 500\n",
        "\n",
        "\n",
        "Package: *\n",
        "Pin: origin \"deb.debian.org\"\n",
        "Pin-Priority: 300\n",
        "\n",
        "\n",
        "Package: chromium*\n",
        "Pin: origin \"deb.debian.org\"\n",
        "Pin-Priority: 700\n",
        "EOF\n",
        "\n",
        "# Install chromium and chromium-driver\n",
        "apt-get update\n",
        "apt-get install chromium chromium-driver\n",
        "\n",
        "# Install selenium\n",
        "pip install selenium\n",
        "# Install selenium-stealth\n",
        "pip install selenium-stealth\n"
      ]
    },
    {
      "cell_type": "markdown",
      "metadata": {
        "id": "V14gjL_W47I2"
      },
      "source": [
        "#### Import Necessary Libs"
      ]
    },
    {
      "cell_type": "code",
      "execution_count": 32,
      "metadata": {
        "id": "6UMAbhTd3CW_"
      },
      "outputs": [],
      "source": [
        "# Import Libs\n",
        "from selenium import webdriver\n",
        "from selenium.webdriver.common.keys import Keys\n",
        "from selenium.webdriver.common.by import By\n",
        "from selenium.webdriver.common.action_chains import ActionChains\n",
        "from google.colab import drive\n",
        "from selenium.webdriver.chrome.service import Service\n",
        "from selenium.webdriver.chrome.options import Options\n",
        "from selenium_stealth import stealth\n",
        "import time\n",
        "from selenium.webdriver import ActionChains\n",
        "from selenium.webdriver.common.actions.action_builder import ActionBuilder\n",
        "from selenium.webdriver.common.actions.mouse_button import MouseButton\n",
        "from selenium.webdriver.common.by import By"
      ]
    },
    {
      "cell_type": "markdown",
      "metadata": {
        "id": "HXHw49aI5CZp"
      },
      "source": [
        "#### Mount Google Drive"
      ]
    },
    {
      "cell_type": "code",
      "execution_count": 33,
      "metadata": {
        "colab": {
          "base_uri": "https://localhost:8080/"
        },
        "id": "K4d0Ipfl3HO5",
        "outputId": "e4ecb4e8-cb2f-4a78-a557-dd52dc909349"
      },
      "outputs": [
        {
          "name": "stdout",
          "output_type": "stream",
          "text": [
            "Drive already mounted at /content/gdrive; to attempt to forcibly remount, call drive.mount(\"/content/gdrive\", force_remount=True).\n",
            "Folder already exists\n"
          ]
        }
      ],
      "source": [
        "# Mount Google Drive\n",
        "drive.mount('/content/gdrive')\n",
        "# Create a folder in Colab it does not exist. The Purpose for the folder is to save scrapped html and screenshot by Selemiun\n",
        "import os\n",
        "directory = '/content/gdrive/MyDrive/MiniProject1'\n",
        "if os.path.exists(directory):\n",
        "    print(\"Folder already exists\")\n",
        "else:\n",
        "    os.makedirs(directory)\n",
        "    print(\"Folder created successfully\")"
      ]
    },
    {
      "cell_type": "markdown",
      "metadata": {
        "id": "_HhkkYOM5JTO"
      },
      "source": [
        "#### Config Selenium and Selenium_steealth"
      ]
    },
    {
      "cell_type": "code",
      "execution_count": 34,
      "metadata": {
        "id": "8urcfue73Qng"
      },
      "outputs": [],
      "source": [
        "# Set the Chromedriver path\n",
        "chromedriver_path = '/usr/bin/chromedriver'\n",
        "\n",
        "# create a ChromeOptions object\n",
        "options = webdriver.ChromeOptions()\n",
        "\n",
        "#run in headless mode\n",
        "options.add_argument(\"--headless\")\n",
        "\n",
        "# disable the AutomationControlled feature of Blink rendering engine\n",
        "options.add_argument('--disable-blink-features=AutomationControlled')\n",
        "\n",
        "# disable pop-up blocking\n",
        "options.add_argument('--disable-popup-blocking')\n",
        "\n",
        "# start the browser window in maximized mode\n",
        "options.add_argument('--start-maximized')\n",
        "\n",
        "# disable extensions\n",
        "options.add_argument('--disable-extensions')\n",
        "\n",
        "# disable sandbox mode\n",
        "options.add_argument('--no-sandbox')\n",
        "\n",
        "# disable shared memory usage\n",
        "options.add_argument('--disable-dev-shm-usage')\n",
        "\n",
        "# Start the Chrome driver\n",
        "driver = webdriver.Chrome(service=Service(executable_path=chromedriver_path), options=options)\n",
        "\n",
        "# Change the property value of the navigator for webdriver to undefined\n",
        "driver.execute_script(\"Object.defineProperty(navigator, 'webdriver', {get: () => undefined})\")"
      ]
    },
    {
      "cell_type": "code",
      "execution_count": 35,
      "metadata": {
        "id": "HaM81LIB3S3S"
      },
      "outputs": [],
      "source": [
        "import random\n",
        "\n",
        "user_agents = [\n",
        "    # build up some agents\n",
        "\t'Mozilla/5.0 (Windows NT 10.0; Win64; x64) AppleWebKit/537.36 (KHTML, like Gecko) Chrome/109.0.0.0 Safari/537.36',\n",
        "    'Mozilla/5.0 (Macintosh; Intel Mac OS X 10_15_7) AppleWebKit/537.36 (KHTML, like Gecko) Chrome/109.0.0.0 Safari/537.36',\n",
        "    'Mozilla/5.0 (Windows NT 10.0; Win64; x64) AppleWebKit/537.36 (KHTML, like Gecko) Chrome/108.0.0.0 Safari/537.36',\n",
        "    'Mozilla/5.0 (Macintosh; Intel Mac OS X 10_15_7) AppleWebKit/537.36 (KHTML, like Gecko) Chrome/108.0.0.0 Safari/537.36',\n",
        "    'Mozilla/5.0 (X11; Linux x86_64) AppleWebKit/537.36 (KHTML, like Gecko) Chrome/108.0.0.0 Safari/537.36',\n",
        "    'Mozilla/5.0 (Macintosh; Intel Mac OS X 10_15_7) AppleWebKit/605.1.15 (KHTML, like Gecko) Version/16.1 Safari/605.1.15',\n",
        "    'Mozilla/5.0 (Macintosh; Intel Mac OS X 13_1) AppleWebKit/605.1.15 (KHTML, like Gecko) Version/16.1 Safari/605.1.15',\n",
        "]\n",
        "# choose a random agent and add it to the option\n",
        "user_agent = random.choice(user_agents)\n",
        "options.add_argument(f'user-agent={user_agent}')"
      ]
    },
    {
      "cell_type": "markdown",
      "metadata": {
        "id": "xd90Mj7D1lJE"
      },
      "source": [
        "### Web scrapping using selenium stealth\n",
        "#### Scrap flights from Helsinki to Paris on 15th Nov., 2023\n",
        "#### Scrap from Momondo\n",
        "#### It takes more than 10 minutes. If less than 2 mins or scraping fails, Please run again. The User Agent will be randomed again"
      ]
    },
    {
      "cell_type": "code",
      "execution_count": 36,
      "metadata": {
        "id": "Cp4Bk0jb33V6"
      },
      "outputs": [],
      "source": [
        "#initialize the Chrome driver with the specified options and the Service module\n",
        "driver = webdriver.Chrome(service=Service(executable_path=chromedriver_path), options=options)\n",
        "#enable the Stealth mode by applying the stealth function\n",
        "stealth(driver,\n",
        "        languages=[\"en-US\", \"en\"],\n",
        "        vendor=\"Google Inc.\",\n",
        "        platform=\"Win32\",\n",
        "        webgl_vendor=\"Intel Inc.\",\n",
        "        renderer=\"Intel Iris OpenGL Engine\",\n",
        "        fix_hairline=True,\n",
        "        )\n",
        "#navigate to the target site\n",
        "driver.get(\"https://www.momondo.com/flight-search/HEL-PAR/2023-11-15?sort=bestflight_a\")\n",
        "\n",
        "# Wait for page to load\n",
        "time.sleep(5)\n",
        "while driver.execute_script(\"return document.readyState\") != \"complete\":\n",
        "    pass\n",
        "\n",
        "# scroll to the bottom of the page\n",
        "driver.execute_script(\"window.scrollBy(0, document.body.scrollHeight || document.documentElement.scrollHeight)\", \"\")\n",
        "\n",
        "# click show more button until it disappears, i.e., load all flight data\n",
        "while True:\n",
        "  try:\n",
        "    clickable = driver.find_element(By.CSS_SELECTOR, 'div.ULvh-button.show-more-button')\n",
        "    webdriver.ActionChains(driver)\\\n",
        "            .click(clickable)\\\n",
        "            .perform()\n",
        "    time.sleep(5)\n",
        "  except:\n",
        "    break\n",
        "\n",
        "# print(len(driver.find_elements(By.CSS_SELECTOR, 'div.nrc6-wrapper')))\n",
        "\n",
        "# click details button to load all data for each flight\n",
        "for i in driver.find_elements(By.CSS_SELECTOR, 'div.nrc6-wrapper'):\n",
        "  try:\n",
        "    clickable = i\n",
        "    webdriver.ActionChains(driver)\\\n",
        "            .click(clickable)\\\n",
        "            .perform()\n",
        "    time.sleep(1)\n",
        "  except:\n",
        "    break\n",
        "\n",
        "# Take screenshot\n",
        "driver.save_screenshot(\"/content/gdrive/My Drive/MiniProject1/momondo.png\")\n",
        "\n",
        "# save the html to file\n",
        "\n",
        "with open('/content/gdrive/My Drive/MiniProject1/momondo_source.html', 'w') as f:\n",
        "\n",
        " f.write(driver.page_source)\n",
        "\n",
        "# Close browser\n",
        "driver.quit()"
      ]
    },
    {
      "cell_type": "markdown",
      "metadata": {
        "id": "7-XKpsth1790"
      },
      "source": [
        "### Web scrapping using selenium stealth\n",
        "#### Scrap flights from Helsinki to Paris on 15th Nov., 2023\n",
        "#### Scrap from Expedia\n"
      ]
    },
    {
      "cell_type": "code",
      "execution_count": 37,
      "metadata": {
        "id": "H7ipfiQV3t7r"
      },
      "outputs": [],
      "source": [
        "# The tricky thing here is that randomizing different user agents will lead\n",
        "# to different HTML layout which will completely change all HTML elements, I will mentioned it in the report.\n",
        "# But anyway, here I dedicated to use the following agent. This will not happen for Momondo and Kayak however.\n",
        "user_agent = 'Mozilla/5.0 (Windows NT 10.0; Win64; x64) AppleWebKit/537.36 (KHTML, like Gecko) Chrome/109.0.0.0 Safari/537.36'\n",
        "options.add_argument(f'user-agent={user_agent}')\n",
        "\n",
        "#initialize the Chrome driver with the specified options and the Service module\n",
        "driver = webdriver.Chrome(service=Service(executable_path=chromedriver_path), options=options)\n",
        "#enable the Stealth mode by applying the stealth function\n",
        "stealth(driver,\n",
        "        languages=[\"en-US\", \"en\"],\n",
        "        vendor=\"Google Inc.\",\n",
        "        platform=\"Win32\",\n",
        "        webgl_vendor=\"Intel Inc.\",\n",
        "        renderer=\"Intel Iris OpenGL Engine\",\n",
        "        fix_hairline=True,\n",
        "        )\n",
        "#navigate to the target site\n",
        "driver.get(\"https://www.expedia.com/Flights-Search?flight-type=on&mode=search&trip=oneway&leg1=from:Helsinki,%20Finland%20(HEL-Vantaa),to:Paris%20(and%20vicinity),%20France,departure:11/15/2023TANYT&options=cabinclass:economy&fromDate=11/15/2023&d1=2023-11-15&passengers=adults:1,infantinlap:N\")\n",
        "\n",
        "# Wait for page to load\n",
        "time.sleep(5)\n",
        "while driver.execute_script(\"return document.readyState\") != \"complete\":\n",
        "    pass\n",
        "\n",
        "# scroll to the bottom of the page\n",
        "driver.execute_script(\"window.scrollBy(0, document.body.scrollHeight || document.documentElement.scrollHeight)\", \"\")\n",
        "\n",
        "# Wait for page to load\n",
        "time.sleep(5)\n",
        "while driver.execute_script(\"return document.readyState\") != \"complete\":\n",
        "    pass\n",
        "\n",
        "# click show more button until it disappears, i.e., load all flight data\n",
        "while True:\n",
        "  try:\n",
        "    clickable = driver.find_element(By.CSS_SELECTOR, 'button.uitk-button.uitk-button-medium.uitk-button-has-text.uitk-button-primary')\n",
        "    webdriver.ActionChains(driver)\\\n",
        "            .click(clickable)\\\n",
        "            .perform()\n",
        "    time.sleep(5)\n",
        "  except:\n",
        "    break\n",
        "\n",
        "# click details button to load all data for each flight\n",
        "# for i in range(2):\n",
        "#   try:\n",
        "#     # driver.find_elements\n",
        "#     clickable = driver.find_element(By.CLASS_NAME, 'nrc6-inner')\n",
        "#     print(clickable.text)\n",
        "#     print(clickable.tag_name)\n",
        "#     webdriver.ActionChains(driver)\\\n",
        "#             .click(clickable)\\\n",
        "#             .perform()\n",
        "#     time.sleep(3)\n",
        "#   except:\n",
        "#     break\n",
        "\n",
        "# Take screenshot\n",
        "driver.save_screenshot(\"/content/gdrive/My Drive/MiniProject1/expedia.png\")\n",
        "\n",
        "# save the html to file\n",
        "\n",
        "with open('/content/gdrive/My Drive/MiniProject1/expedia_source.html', 'w') as f:\n",
        "\n",
        " f.write(driver.page_source)\n",
        "\n",
        "# Close browser\n",
        "driver.quit()"
      ]
    },
    {
      "cell_type": "markdown",
      "metadata": {
        "id": "NLzXx_yo2FHh"
      },
      "source": [
        "### Web scrapping using selenium stealth\n",
        "#### Scrap flights from Helsinki to Paris on 15th Nov., 2023\n",
        "#### Scrap from Kayak\n",
        "#### It takes more than 10 minutes. If less than 2 mins or scraping fails, Please run again. The User Agent will be randomed again\n"
      ]
    },
    {
      "cell_type": "code",
      "execution_count": 38,
      "metadata": {
        "id": "N3-CK1uw3_x9"
      },
      "outputs": [],
      "source": [
        "#initialize the Chrome driver with the specified options and the Service module\n",
        "driver = webdriver.Chrome(service=Service(executable_path=chromedriver_path), options=options)\n",
        "#enable the Stealth mode by applying the stealth function\n",
        "stealth(driver,\n",
        "        languages=[\"en-US\", \"en\"],\n",
        "        vendor=\"Google Inc.\",\n",
        "        platform=\"Win32\",\n",
        "        webgl_vendor=\"Intel Inc.\",\n",
        "        renderer=\"Intel Iris OpenGL Engine\",\n",
        "        fix_hairline=True,\n",
        "        )\n",
        "#navigate to the target site\n",
        "driver.get(\"https://www.kayak.com/flights/HEL-PAR/2023-11-15?sort=bestflight_a\")\n",
        "\n",
        "# Wait for page to load\n",
        "time.sleep(5)\n",
        "while driver.execute_script(\"return document.readyState\") != \"complete\":\n",
        "    pass\n",
        "\n",
        "# scroll to the bottom of the page\n",
        "driver.execute_script(\"window.scrollBy(0, document.body.scrollHeight || document.documentElement.scrollHeight)\", \"\")\n",
        "\n",
        "# click show more button until it disappears, i.e., load all flight data\n",
        "while True:\n",
        "  try:\n",
        "    clickable = driver.find_element(By.CSS_SELECTOR, 'div.ULvh-button.show-more-button')\n",
        "    webdriver.ActionChains(driver)\\\n",
        "            .click(clickable)\\\n",
        "            .perform()\n",
        "    time.sleep(5)\n",
        "  except:\n",
        "    break\n",
        "\n",
        "# click details button to load all data for each flight\n",
        "for i in driver.find_elements(By.CSS_SELECTOR, 'div.nrc6-wrapper'):\n",
        "  try:\n",
        "    clickable = i\n",
        "    webdriver.ActionChains(driver)\\\n",
        "            .click(clickable)\\\n",
        "            .perform()\n",
        "    time.sleep(1)\n",
        "  except:\n",
        "    break\n",
        "\n",
        "# Take screenshot\n",
        "driver.save_screenshot(\"/content/gdrive/My Drive/MiniProject1/kayak.png\")\n",
        "\n",
        "# save the html to file\n",
        "\n",
        "with open('/content/gdrive/My Drive/MiniProject1/kayak_source.html', 'w') as f:\n",
        "\n",
        " f.write(driver.page_source)\n",
        "\n",
        " # Close browser\n",
        "driver.quit()"
      ]
    },
    {
      "cell_type": "markdown",
      "metadata": {
        "id": "M9nBmkpGaBZ3"
      },
      "source": [
        "### DEA for aggregated data from Expedia, Momondo and Kayak\n",
        "\n"
      ]
    },
    {
      "cell_type": "markdown",
      "metadata": {
        "id": "WRwbLMeCcYVq"
      },
      "source": [
        "#### Installing packages, importing libs"
      ]
    },
    {
      "cell_type": "code",
      "execution_count": 39,
      "metadata": {
        "id": "qr6miRFRbCBq"
      },
      "outputs": [],
      "source": [
        "# For your reference in case you want to check the link, although this DEA uses offlice HTML scrapped before\n",
        "site_ref = { 'Expedia': 'https://www.expedia.com/Flights-Search?flight-type=on&mode=search&trip=oneway&leg1=from:Helsinki,%20Finland%20(HEL-Vantaa),to:Paris%20(and%20vicinity),%20France,departure:11/15/2023TANYT&options=cabinclass:economy&fromDate=11/15/2023&d1=2023-11-15&passengers=adults:1,infantinlap:N',\n",
        "          'kayak' : 'https://www.kayak.com/flights/HEL-PAR/2023-11-15?sort=bestflight_a',\n",
        "          'momondo':'https://www.momondo.com/flight-search/HEL-PAR/2023-11-15?sort=bestflight_a',\n",
        "}"
      ]
    },
    {
      "cell_type": "code",
      "execution_count": 40,
      "metadata": {
        "id": "JBM94_Afx8sy"
      },
      "outputs": [],
      "source": [
        "# install beautifulsoup4\n",
        "%%capture\n",
        "!pip install beautifulsoup4\n",
        "# install pytimeparse\n",
        "!pip install pytimeparse\n"
      ]
    },
    {
      "cell_type": "code",
      "execution_count": 41,
      "metadata": {
        "id": "B5EPAKX2hKI5"
      },
      "outputs": [],
      "source": [
        "# import packages\n",
        "import pandas as pd\n",
        "import numpy as np\n",
        "import warnings\n",
        "warnings.filterwarnings('ignore')\n",
        "from google.colab import drive\n",
        "import seaborn as sns\n",
        "import matplotlib.pyplot as plt\n",
        "%matplotlib inline\n",
        "import ast\n",
        "from collections import Counter\n",
        "from ipywidgets import interact, interactive, fixed, interact_manual\n",
        "import ipywidgets as widgets\n",
        "from IPython.core.display import Image, display\n",
        "from google.colab import drive\n",
        "from bs4 import BeautifulSoup\n",
        "import re\n",
        "from pytimeparse import parse"
      ]
    },
    {
      "cell_type": "markdown",
      "metadata": {
        "id": "nuUw5I0Y6N51"
      },
      "source": [
        "#### Initialize DataFrame"
      ]
    },
    {
      "cell_type": "code",
      "execution_count": 42,
      "metadata": {
        "colab": {
          "base_uri": "https://localhost:8080/",
          "height": 0
        },
        "id": "MWvI9Y3ehwrQ",
        "outputId": "89bbd14c-caae-4cce-beae-cdec74778e50"
      },
      "outputs": [
        {
          "data": {
            "text/html": [
              "\n",
              "  <div id=\"df-d7e9e743-fe0f-442b-8e4b-76dde2962aa0\" class=\"colab-df-container\">\n",
              "    <div>\n",
              "<style scoped>\n",
              "    .dataframe tbody tr th:only-of-type {\n",
              "        vertical-align: middle;\n",
              "    }\n",
              "\n",
              "    .dataframe tbody tr th {\n",
              "        vertical-align: top;\n",
              "    }\n",
              "\n",
              "    .dataframe thead th {\n",
              "        text-align: right;\n",
              "    }\n",
              "</style>\n",
              "<table border=\"1\" class=\"dataframe\">\n",
              "  <thead>\n",
              "    <tr style=\"text-align: right;\">\n",
              "      <th></th>\n",
              "      <th>Price</th>\n",
              "      <th>No_of_Stop</th>\n",
              "      <th>Airline</th>\n",
              "      <th>Departure_Time</th>\n",
              "      <th>Arriving_Time</th>\n",
              "      <th>Is_Direct_Flight</th>\n",
              "      <th>Layover_Citys</th>\n",
              "      <th>Saperated_Layover_Time_in_Hours</th>\n",
              "      <th>Total_Trip_Duration_in_Hours</th>\n",
              "      <th>Type_of_Aircraft</th>\n",
              "      <th>Source_of_Info</th>\n",
              "    </tr>\n",
              "  </thead>\n",
              "  <tbody>\n",
              "  </tbody>\n",
              "</table>\n",
              "</div>\n",
              "    <div class=\"colab-df-buttons\">\n",
              "\n",
              "  <div class=\"colab-df-container\">\n",
              "    <button class=\"colab-df-convert\" onclick=\"convertToInteractive('df-d7e9e743-fe0f-442b-8e4b-76dde2962aa0')\"\n",
              "            title=\"Convert this dataframe to an interactive table.\"\n",
              "            style=\"display:none;\">\n",
              "\n",
              "  <svg xmlns=\"http://www.w3.org/2000/svg\" height=\"24px\" viewBox=\"0 -960 960 960\">\n",
              "    <path d=\"M120-120v-720h720v720H120Zm60-500h600v-160H180v160Zm220 220h160v-160H400v160Zm0 220h160v-160H400v160ZM180-400h160v-160H180v160Zm440 0h160v-160H620v160ZM180-180h160v-160H180v160Zm440 0h160v-160H620v160Z\"/>\n",
              "  </svg>\n",
              "    </button>\n",
              "\n",
              "  <style>\n",
              "    .colab-df-container {\n",
              "      display:flex;\n",
              "      gap: 12px;\n",
              "    }\n",
              "\n",
              "    .colab-df-convert {\n",
              "      background-color: #E8F0FE;\n",
              "      border: none;\n",
              "      border-radius: 50%;\n",
              "      cursor: pointer;\n",
              "      display: none;\n",
              "      fill: #1967D2;\n",
              "      height: 32px;\n",
              "      padding: 0 0 0 0;\n",
              "      width: 32px;\n",
              "    }\n",
              "\n",
              "    .colab-df-convert:hover {\n",
              "      background-color: #E2EBFA;\n",
              "      box-shadow: 0px 1px 2px rgba(60, 64, 67, 0.3), 0px 1px 3px 1px rgba(60, 64, 67, 0.15);\n",
              "      fill: #174EA6;\n",
              "    }\n",
              "\n",
              "    .colab-df-buttons div {\n",
              "      margin-bottom: 4px;\n",
              "    }\n",
              "\n",
              "    [theme=dark] .colab-df-convert {\n",
              "      background-color: #3B4455;\n",
              "      fill: #D2E3FC;\n",
              "    }\n",
              "\n",
              "    [theme=dark] .colab-df-convert:hover {\n",
              "      background-color: #434B5C;\n",
              "      box-shadow: 0px 1px 3px 1px rgba(0, 0, 0, 0.15);\n",
              "      filter: drop-shadow(0px 1px 2px rgba(0, 0, 0, 0.3));\n",
              "      fill: #FFFFFF;\n",
              "    }\n",
              "  </style>\n",
              "\n",
              "    <script>\n",
              "      const buttonEl =\n",
              "        document.querySelector('#df-d7e9e743-fe0f-442b-8e4b-76dde2962aa0 button.colab-df-convert');\n",
              "      buttonEl.style.display =\n",
              "        google.colab.kernel.accessAllowed ? 'block' : 'none';\n",
              "\n",
              "      async function convertToInteractive(key) {\n",
              "        const element = document.querySelector('#df-d7e9e743-fe0f-442b-8e4b-76dde2962aa0');\n",
              "        const dataTable =\n",
              "          await google.colab.kernel.invokeFunction('convertToInteractive',\n",
              "                                                    [key], {});\n",
              "        if (!dataTable) return;\n",
              "\n",
              "        const docLinkHtml = 'Like what you see? Visit the ' +\n",
              "          '<a target=\"_blank\" href=https://colab.research.google.com/notebooks/data_table.ipynb>data table notebook</a>'\n",
              "          + ' to learn more about interactive tables.';\n",
              "        element.innerHTML = '';\n",
              "        dataTable['output_type'] = 'display_data';\n",
              "        await google.colab.output.renderOutput(dataTable, element);\n",
              "        const docLink = document.createElement('div');\n",
              "        docLink.innerHTML = docLinkHtml;\n",
              "        element.appendChild(docLink);\n",
              "      }\n",
              "    </script>\n",
              "  </div>\n",
              "\n",
              "    </div>\n",
              "  </div>\n"
            ],
            "text/plain": [
              "Empty DataFrame\n",
              "Columns: [Price, No_of_Stop, Airline, Departure_Time, Arriving_Time, Is_Direct_Flight, Layover_Citys, Saperated_Layover_Time_in_Hours, Total_Trip_Duration_in_Hours, Type_of_Aircraft, Source_of_Info]\n",
              "Index: []"
            ]
          },
          "execution_count": 42,
          "metadata": {},
          "output_type": "execute_result"
        }
      ],
      "source": [
        "#Define a DataFrame to store all data from four sources\n",
        "#   'Price' to refer to Price\n",
        "#   'No_of_Stop' to refer to Number of Stops\n",
        "#   'Airline' to refer to Airline Company\n",
        "#   'Departure_Time' to refer to Departure Time\n",
        "#   'Arriving_Time' to refer to Arriving Time\n",
        "#   'Is_Direct_Flight' to refer to Direct Flight\n",
        "#   'Layover_Citys' to refer to Layover Cities\n",
        "#   'Saperated_Layover_Time_in_Hours' to refer to saperated Layover Time(non direct flights)\n",
        "#   'Total_Trip_Duration_in_Hours'  to refer to Trip Duration\n",
        "#   'Type_of_Aircraft' to refer to Type of the aircraft\n",
        "#   'Source_of_Info' to refer to Source of info\n",
        "dataframe = pd.DataFrame(columns=['Price', 'No_of_Stop',\n",
        "                                  'Airline', 'Departure_Time',\n",
        "                                  'Arriving_Time', 'Is_Direct_Flight',\n",
        "                                  'Layover_Citys', 'Saperated_Layover_Time_in_Hours',\n",
        "                                  'Total_Trip_Duration_in_Hours', 'Type_of_Aircraft',\n",
        "                                  'Source_of_Info'])\n",
        "dataframe"
      ]
    },
    {
      "cell_type": "markdown",
      "metadata": {
        "id": "BPZwVWRMhkg2"
      },
      "source": [
        "#### saving data to DF from expedia"
      ]
    },
    {
      "cell_type": "code",
      "execution_count": 43,
      "metadata": {
        "id": "4W9Fg2pf0CbD"
      },
      "outputs": [],
      "source": [
        "# parse Selenium HTML file to bs4.BeautifulSoup object\n",
        "with open('/content/gdrive/My Drive/MiniProject1/expedia_source.html', 'r') as f:\n",
        "    contents = f.read()\n",
        "    soup = BeautifulSoup(contents, 'lxml')\n"
      ]
    },
    {
      "cell_type": "code",
      "execution_count": 44,
      "metadata": {
        "id": "x4MYXnq1hL_Z"
      },
      "outputs": [],
      "source": [
        "#loop each flight and save the data into dataframe\n",
        "for item in soup.find_all('div', attrs={\"data-test-id\": \"intersection-observer\"}):\n",
        "    # Get price\n",
        "    Price = item.find('span', attrs ={\"class\": 'uitk-lockup-price', 'aria-hidden':'true', 'data-stid':''}).getText()\n",
        "    # Get numnber of stops, extract the right part from text using string split()\n",
        "    try:\n",
        "      No_of_Stop = item.find(lambda tag: tag.name == 'div'\n",
        "                      and tag.get('class') == ['uitk-text', 'truncate', 'uitk-type-200', 'uitk-type-bold', 'uitk-text-default-theme', 'uitk-experimental-timeline-stops-text'])\\\n",
        "                      .getText().split(' ')[0]\n",
        "    except:\n",
        "      continue\n",
        "    # Get numnber of stops == Nonstop, numnber of stops = 0\n",
        "    if 'Non' in No_of_Stop:\n",
        "      No_of_Stop = '0'\n",
        "    # Get Airline Company\n",
        "    Airline = item.find('h3', attrs ={\"class\": ['uitk-heading', 'uitk-heading-7', 'puitk-layout-flex-item']}).getText()\n",
        "    # Get Departure_Time\n",
        "    Departure_Time = item.find(lambda tag: tag.name == 'div'\n",
        "                    and tag.get('class') == ['uitk-text','uitk-type-400','uitk-type-bold', 'uitk-text-default-theme','uitk-spacing','uitk-experimental-timeline-time','uitk-spacing-margin-inlineend-two','uitk-layout-flex-item'])\\\n",
        "                    .getText()\n",
        "    # Get Arriving_Time\n",
        "    Arriving_Time = item.find(lambda tag: tag.name == 'div'\n",
        "                    and tag.get('class') == ['uitk-text','uitk-type-end','uitk-type-400','uitk-type-bold', 'uitk-text-default-theme','uitk-spacing','uitk-experimental-timeline-time','uitk-spacing-margin-inlinestart-two','uitk-layout-flex-item'])\\\n",
        "                    .getText()\n",
        "    # creeate a Tag to check whether it is direct flight or not. Direct Flight = 1, Non Direct Flight = 0\n",
        "    Is_Direct_Flight = (lambda Is_Direct_Flight :'1' if No_of_Stop == '0' else '0')(No_of_Stop)\n",
        "    # It is possible that there is more than one Layover city, in order to unify the scale, create a list to store Layover_Citys\n",
        "    Layover_Citys = []\n",
        "    # It is possible that there is more than one Layover time, in order to unify the scale, create a list to store Saperated_Layover_Time_in_Hours\n",
        "    Saperated_Layover_Time_in_Hours = []\n",
        "    try:\n",
        "      # it is possible it is a direct flight, the follwing code will throw nontype error, catch it and turn to outer except\n",
        "      Text = item.find_all(lambda tag: tag.name == 'div'\n",
        "                      and tag.get('class') == ['uitk-text', 'truncate', 'uitk-type-200', 'uitk-type-regular', 'uitk-text-default-theme', 'uitk-experimental-timeline-stops-text'])[1]\\\n",
        "                      .getText()\n",
        "      try:\n",
        "        # it is possible that there are only layover cities without layover time, catch it and turn to the inner except\n",
        "        # Parse the xx h xx m to Hours for unifying the scale\n",
        "        Saperated_Layover_Time_in_Hours.append(round(parse(Text.split(' in ')[0])/3600, 2))\n",
        "        # append layover cities to the Layover_Citys list\n",
        "        Layover_Citys.append(Text.split(' in ')[1])\n",
        "      except:\n",
        "        # Expedia cannot offer Saperated_Layover_Time if there is more than 1 layover city, so save it as []\n",
        "        Saperated_Layover_Time_in_Hours = []\n",
        "        # Save multiple layovers into Layover_Citys\n",
        "        Layover_Citys = Text.split(',')\n",
        "    except:\n",
        "      Saperated_Layover_Time_in_Hours = []\n",
        "      # Layover_Citys.append('')\n",
        "\n",
        "    # get Total_Trip_Duration and parse it into Hours for unifying scale\n",
        "    Total_Trip_Duration_in_Hours = round(parse(item.find(lambda tag: tag.name == 'div'\n",
        "                    and tag.get('class') == ['uitk-text', 'uitk-type-center', 'uitk-type-200', 'uitk-type-bold', 'uitk-text-default-theme'])\\\n",
        "                    .getText())/3600, 2)\n",
        "    # No information about Type_of_Aircraft\n",
        "    Type_of_Aircraft = []\n",
        "    # recode the source of the info.\n",
        "    Source_of_Info = 'Expedia'\n",
        "    # Append the new row to the dataFrame dataframe\n",
        "    dataframe = dataframe.append({'Price': Price,\n",
        "                    'No_of_Stop': No_of_Stop,\n",
        "                    'Airline': Airline,\n",
        "                    'Departure_Time': Departure_Time,\n",
        "                    'Arriving_Time': Arriving_Time,\n",
        "                    'Is_Direct_Flight': Is_Direct_Flight,\n",
        "                    'Saperated_Layover_Time_in_Hours': Saperated_Layover_Time_in_Hours,\n",
        "                    'Layover_Citys': Layover_Citys,\n",
        "                    'Total_Trip_Duration_in_Hours': Total_Trip_Duration_in_Hours,\n",
        "                    'Type_of_Aircraft': Type_of_Aircraft,\n",
        "                    'Source_of_Info': Source_of_Info,\n",
        "                    }, ignore_index=True)"
      ]
    },
    {
      "cell_type": "markdown",
      "metadata": {
        "id": "B2pXVAX2G0kz"
      },
      "source": [
        "#### saving data to DF from Monondo\n"
      ]
    },
    {
      "cell_type": "code",
      "execution_count": 45,
      "metadata": {
        "id": "C51DoOzkG6Wl"
      },
      "outputs": [],
      "source": [
        "# parse Selenium HTML file to bs4.BeautifulSoup object\n",
        "with open('/content/gdrive/My Drive/MiniProject1/momondo_source.html', 'r') as f:\n",
        "    contents = f.read()\n",
        "    soup = BeautifulSoup(contents, 'lxml')"
      ]
    },
    {
      "cell_type": "code",
      "execution_count": 46,
      "metadata": {
        "id": "b2GmDDWZG85X"
      },
      "outputs": [],
      "source": [
        "#loop each flight and save the data into dataframe\n",
        "for item in soup.find_all('div', attrs={\"class\": \"nrc6\"}):\n",
        "    # get price\n",
        "    Price = item.find('div', attrs ={\"class\": 'f8F1-price-text'}).getText()\n",
        "    # get number of stops using string split\n",
        "    No_of_Stop = item.find('span', attrs ={\"class\": 'JWEO-stops-text'})\\\n",
        "                    .getText().split(' ')[0]\n",
        "    # if it is nonstop, make No_of_Stop = 0\n",
        "    if 'non' in No_of_Stop:\n",
        "      No_of_Stop = '0'\n",
        "    # get Airline info.\n",
        "    Airline = item.find('div', attrs ={\"class\": ['c_cgF', 'c_cgF-mod-variant-default']}).getText()\n",
        "    # create a temp list to save departure time and arriving time\n",
        "    temp = []\n",
        "    for each in item.find(lambda tag: tag.name == 'div'\n",
        "                    and tag.get('class') == ['vmXl', 'vmXl-mod-variant-large'])\\\n",
        "                    .find_all('span'):\n",
        "      temp.append(each.getText())\n",
        "    Departure_Time = temp[0]\n",
        "    Arriving_Time = temp[2]\n",
        "    # creeate a Tag to check whether it is direct flight or not. Direct Flight = 1, Non Direct Flight = 0\n",
        "    Is_Direct_Flight = (lambda Is_Direct_Flight :'1' if No_of_Stop == '0' else '0')(No_of_Stop)\n",
        "\n",
        "    # create a temperary Text since the layover city and time can exists in several times in the HTML block\n",
        "    Text = item.find(lambda tag: tag.name == 'div'\n",
        "                      and tag.get('class') == ['JWEO']).find('div', attrs = {'class':['c_cgF','c_cgF-mod-variant-default']})\n",
        "    # Create Saperated_Layover_Time_in_Hours and Layover_Citys as list\n",
        "    Saperated_Layover_Time_in_Hours = []\n",
        "    Layover_Citys = []\n",
        "    # loop each span\n",
        "    for each in Text.find_all('span'):\n",
        "      try:\n",
        "          # there is a chance a <span> do not have title(which is the right info of Saperated_Layover_Time_in_Hours), catch it and continue\n",
        "          # use regex to extract Saperated_Layover_Time_in_Hours and parse it into Hours to unify the scale\n",
        "          Saperated_Layover_Time_in_Hours.append(round(parse(re.search('(^.* )l', each['title'])[1])/3600,2))\n",
        "          # get layover city and Append it to Layover_Citys\n",
        "          Layover_Citys.append(each.getText())\n",
        "      except:\n",
        "          continue\n",
        "\n",
        "    # get Total_Trip_Duration_in_Hours and parse it to Hours to unify scale\n",
        "    Total_Trip_Duration_in_Hours = round(parse(item.find('div', attrs ={\"class\": 'xdW8'}).find(lambda tag: tag.name == 'div'\n",
        "                      and tag.get('class') == ['vmXl', 'vmXl-mod-variant-default']).getText())/3600,2)\n",
        "    try:\n",
        "      # There is a change extra element <div class='o-C7'> does not have  <div class='X3K_-segments'>, catch it and continue\n",
        "      Text = item.find(lambda tag: tag.name == 'div'\n",
        "                        and tag.get('class') == ['o-C7']).find('div', attrs = {'class':['X3K_-segments']})\n",
        "      # since there could be more than 1 layovers. And the aircraft is different for each flight between the layover. So create a Type_of_Aircraft to store them\n",
        "      Type_of_Aircraft = []\n",
        "      for each in Text.find_all('div', attrs = {'class':['nAz5']}):\n",
        "        try:\n",
        "            # there is a that no record for aircraft, catch it and continue\n",
        "            Type_of_Aircraft.append(each.find('div', attrs = {'class':['af2q-equip-name']}).getText())\n",
        "        except:\n",
        "            continue\n",
        "    except:\n",
        "      continue\n",
        "    # record the source of the info\n",
        "    Source_of_Info = 'Momondo'\n",
        "    # Append the new row to the dataFrame dataframe\n",
        "    dataframe = dataframe.append({'Price': Price,\n",
        "                    'No_of_Stop': No_of_Stop,\n",
        "                    'Airline': Airline,\n",
        "                    'Departure_Time': Departure_Time,\n",
        "                    'Arriving_Time': Arriving_Time,\n",
        "                    'Is_Direct_Flight': Is_Direct_Flight,\n",
        "                    'Saperated_Layover_Time_in_Hours': Saperated_Layover_Time_in_Hours,\n",
        "                    'Layover_Citys': Layover_Citys,\n",
        "                    'Total_Trip_Duration_in_Hours': Total_Trip_Duration_in_Hours,\n",
        "                    'Type_of_Aircraft': Type_of_Aircraft,\n",
        "                    'Source_of_Info': Source_of_Info,\n",
        "                    }, ignore_index=True)"
      ]
    },
    {
      "cell_type": "markdown",
      "metadata": {
        "id": "M9DIq1Q5wY6e"
      },
      "source": [
        "#### saving data to DF from Kayak\n"
      ]
    },
    {
      "cell_type": "code",
      "execution_count": 47,
      "metadata": {
        "id": "rbVQcQRM2hUN"
      },
      "outputs": [],
      "source": [
        "# parse Selenium HTML file to bs4.BeautifulSoup object\n",
        "with open('/content/gdrive/My Drive/MiniProject1/kayak_source.html', 'r') as f:\n",
        "    contents = f.read()\n",
        "    soup = BeautifulSoup(contents, 'lxml')"
      ]
    },
    {
      "cell_type": "code",
      "execution_count": 48,
      "metadata": {
        "id": "b-329lIb2iyj"
      },
      "outputs": [],
      "source": [
        "#loop each flight and save the data into dataframe\n",
        "for item in soup.find_all('div', attrs={\"class\": \"nrc6\"}):\n",
        "    # get price\n",
        "    Price = item.find('div', attrs ={\"class\": 'f8F1-price-text'}).getText()\n",
        "    # get number of stops using string split\n",
        "    No_of_Stop = item.find('span', attrs ={\"class\": 'JWEO-stops-text'})\\\n",
        "                    .getText().split(' ')[0]\n",
        "    # if it is nonstop, make No_of_Stop = 0\n",
        "    if 'non' in No_of_Stop:\n",
        "      No_of_Stop = '0'\n",
        "    # get Airline info.\n",
        "    Airline = item.find('div', attrs ={\"class\": ['c_cgF', 'c_cgF-mod-variant-default']}).getText()\n",
        "    # create a temp list to save departure time and arriving time\n",
        "    temp = []\n",
        "    for each in item.find(lambda tag: tag.name == 'div'\n",
        "                    and tag.get('class') == ['vmXl', 'vmXl-mod-variant-large'])\\\n",
        "                    .find_all('span'):\n",
        "      temp.append(each.getText())\n",
        "    Departure_Time = temp[0]\n",
        "    Arriving_Time = temp[2]\n",
        "    # creeate a Tag to check whether it is direct flight or not. Direct Flight = 1, Non Direct Flight = 0\n",
        "    Is_Direct_Flight = (lambda Is_Direct_Flight :'1' if No_of_Stop == '0' else '0')(No_of_Stop)\n",
        "\n",
        "    # create a temperary Text since the layover city and time can exists in several times in the HTML block\n",
        "    Text = item.find(lambda tag: tag.name == 'div'\n",
        "                      and tag.get('class') == ['JWEO']).find('div', attrs = {'class':['c_cgF','c_cgF-mod-variant-default']})\n",
        "    # Create Saperated_Layover_Time_in_Hours and Layover_Citys as list\n",
        "    Saperated_Layover_Time_in_Hours = []\n",
        "    Layover_Citys = []\n",
        "    # loop each span\n",
        "    for each in Text.find_all('span'):\n",
        "      try:\n",
        "          # there is a chance a <span> do not have title(which is the right info of Saperated_Layover_Time_in_Hours), catch it and continue\n",
        "          # use regex to extract Saperated_Layover_Time_in_Hours and parse it into Hours to unify the scale\n",
        "          Saperated_Layover_Time_in_Hours.append(round(parse(re.search('(^.* )l', each['title'])[1])/3600,2))\n",
        "          # get layover city and Append it to Layover_Citys\n",
        "          Layover_Citys.append(each.getText())\n",
        "      except:\n",
        "          continue\n",
        "\n",
        "    # get Total_Trip_Duration_in_Hours and parse it to Hours to unify scale\n",
        "    Total_Trip_Duration_in_Hours = round(parse(item.find('div', attrs ={\"class\": 'xdW8'}).find(lambda tag: tag.name == 'div'\n",
        "                      and tag.get('class') == ['vmXl', 'vmXl-mod-variant-default']).getText())/3600, 2)\n",
        "    try:\n",
        "      # There is a change extra element <div class='o-C7'> does not have  <div class='X3K_-segments'>, catch it and continue\n",
        "      Text = item.find(lambda tag: tag.name == 'div'\n",
        "                        and tag.get('class') == ['o-C7']).find('div', attrs = {'class':['X3K_-segments']})\n",
        "      # since there could be more than 1 layovers. And the aircraft is different for each flight between the layover. So create a Type_of_Aircraft to store them\n",
        "      Type_of_Aircraft = []\n",
        "      for each in Text.find_all('div', attrs = {'class':['nAz5']}):\n",
        "        try:\n",
        "            # there is a that no record for aircraft, catch it and continue\n",
        "            Type_of_Aircraft.append(each.find('div', attrs = {'class':['af2q-equip-name']}).getText())\n",
        "        except:\n",
        "            continue\n",
        "    except:\n",
        "      continue\n",
        "    # record the source of the info\n",
        "    Source_of_Info = 'Kayak'\n",
        "    # Append the new row to the dataFrame dataframe\n",
        "    dataframe = dataframe.append({'Price': Price,\n",
        "                    'No_of_Stop': No_of_Stop,\n",
        "                    'Airline': Airline,\n",
        "                    'Departure_Time': Departure_Time,\n",
        "                    'Arriving_Time': Arriving_Time,\n",
        "                    'Is_Direct_Flight': Is_Direct_Flight,\n",
        "                    'Saperated_Layover_Time_in_Hours': Saperated_Layover_Time_in_Hours,\n",
        "                    'Layover_Citys': Layover_Citys,\n",
        "                    'Total_Trip_Duration_in_Hours': Total_Trip_Duration_in_Hours,\n",
        "                    'Type_of_Aircraft': Type_of_Aircraft,\n",
        "                    'Source_of_Info': Source_of_Info,\n",
        "                    }, ignore_index=True)\n",
        "# dataframe.to_csv('/content/gdrive/My Drive/combination.csv')"
      ]
    },
    {
      "cell_type": "markdown",
      "metadata": {
        "id": "z_R0D6r3dFKR"
      },
      "source": [
        "#### Exploratory Data Analysis"
      ]
    },
    {
      "cell_type": "code",
      "execution_count": 56,
      "metadata": {
        "colab": {
          "base_uri": "https://localhost:8080/"
        },
        "id": "PeMFav6ndLjE",
        "outputId": "5bd7b3db-9cd0-4fed-d416-503d68f48bd6"
      },
      "outputs": [
        {
          "name": "stdout",
          "output_type": "stream",
          "text": [
            "<class 'pandas.core.frame.DataFrame'>\n",
            "RangeIndex: 327 entries, 0 to 326\n",
            "Data columns (total 11 columns):\n",
            " #   Column                           Non-Null Count  Dtype  \n",
            "---  ------                           --------------  -----  \n",
            " 0   Price                            327 non-null    object \n",
            " 1   No_of_Stop                       327 non-null    object \n",
            " 2   Airline                          327 non-null    object \n",
            " 3   Departure_Time                   327 non-null    object \n",
            " 4   Arriving_Time                    327 non-null    object \n",
            " 5   Is_Direct_Flight                 327 non-null    object \n",
            " 6   Layover_Citys                    327 non-null    object \n",
            " 7   Saperated_Layover_Time_in_Hours  327 non-null    object \n",
            " 8   Total_Trip_Duration_in_Hours     327 non-null    float64\n",
            " 9   Type_of_Aircraft                 327 non-null    object \n",
            " 10  Source_of_Info                   327 non-null    object \n",
            "dtypes: float64(1), object(10)\n",
            "memory usage: 28.2+ KB\n"
          ]
        }
      ],
      "source": [
        "dataframe.info()"
      ]
    },
    {
      "cell_type": "code",
      "execution_count": 57,
      "metadata": {
        "colab": {
          "base_uri": "https://localhost:8080/"
        },
        "id": "z24wRyD_duZa",
        "outputId": "c2f3d05b-dc6f-45fe-d9e6-394650c2a014"
      },
      "outputs": [
        {
          "data": {
            "text/plain": [
              "Price                              0\n",
              "No_of_Stop                         0\n",
              "Airline                            0\n",
              "Departure_Time                     0\n",
              "Arriving_Time                      0\n",
              "Is_Direct_Flight                   0\n",
              "Layover_Citys                      0\n",
              "Saperated_Layover_Time_in_Hours    0\n",
              "Total_Trip_Duration_in_Hours       0\n",
              "Type_of_Aircraft                   0\n",
              "Source_of_Info                     0\n",
              "dtype: int64"
            ]
          },
          "execution_count": 57,
          "metadata": {},
          "output_type": "execute_result"
        }
      ],
      "source": [
        "dataframe.isnull().sum()"
      ]
    },
    {
      "cell_type": "code",
      "execution_count": 59,
      "metadata": {
        "id": "Uad8fQbfkefJ"
      },
      "outputs": [],
      "source": [
        "# Data pre-processing\n",
        "from re import sub\n",
        "from decimal import Decimal\n",
        "df = dataframe.copy()\n",
        "# format Price from $ xxx to int\n",
        "df['Price'] = dataframe['Price'].apply(lambda x: str(Decimal(sub(r'[^\\d.]','', x)))).astype(int)\n",
        "# format No_of_Stop to int\n",
        "df['No_of_Stop'] = dataframe['No_of_Stop'].astype(int)\n",
        "# format No_of_Stop to int\n",
        "df['Is_Direct_Flight'] = dataframe['Is_Direct_Flight'].astype(int)\n",
        "# format Airline from string to list for further usage\n",
        "df['Airline'] = dataframe['Airline'].apply(lambda x : x.split(', '))\n",
        "\n",
        "# Save Exact Departure_Time for display purpose\n",
        "df['Departure_Time_Exact'] = df['Departure_Time']\n",
        "# Save Exact Arriving_Time for display purpose\n",
        "df['Arriving_Time_Exact'] = df['Arriving_Time']\n",
        "\n",
        "# format Departure_Time to standard HH:MM\n",
        "df['Departure_Time'] = df['Departure_Time'].apply(lambda x: pd.to_datetime(x).strftime('%H'))\n",
        "# format Arriving_Time to standard HH:MM\n",
        "df['Arriving_Time'] = df['Arriving_Time'].apply(lambda x: pd.to_datetime(x).strftime('%H'))"
      ]
    },
    {
      "cell_type": "code",
      "execution_count": 60,
      "metadata": {
        "colab": {
          "base_uri": "https://localhost:8080/",
          "height": 388
        },
        "id": "KpoZoOD-945m",
        "outputId": "d4acd7a1-f5cd-4658-d2bb-0e9395fe3f80"
      },
      "outputs": [
        {
          "data": {
            "image/png": "[encoded data removed]",
            "text/plain": [
              "<Figure size 1000x400 with 1 Axes>"
            ]
          },
          "metadata": {},
          "output_type": "display_data"
        }
      ],
      "source": [
        "#plot the data records distributions for diffferent sources\n",
        "# create a figure with side 10,4\n",
        "plt.figure(figsize=(10,4))\n",
        "# split figure to two parts\n",
        "plt.subplot(1,1,1)\n",
        "# plot histogram of data records distributions for diffferent sources\n",
        "chart0 = sns.histplot(data=df, x='Source_of_Info')\n",
        "plt.show()"
      ]
    },
    {
      "cell_type": "code",
      "execution_count": 61,
      "metadata": {
        "colab": {
          "base_uri": "https://localhost:8080/",
          "height": 409
        },
        "id": "5naQH3QGeOGO",
        "outputId": "39ecab54-5070-4641-cab4-d4bb51105661"
      },
      "outputs": [
        {
          "data": {
            "image/png": "[encoded data removed]",
            "text/plain": [
              "<Figure size 1000x400 with 2 Axes>"
            ]
          },
          "metadata": {},
          "output_type": "display_data"
        }
      ],
      "source": [
        "# create a figure with side 10,4\n",
        "plt.figure(figsize=(10,4))\n",
        "# split figure to two parts\n",
        "plt.subplot(1,2,1)\n",
        "# plot histogram of price distribution with KDE\n",
        "chart1 = sns.histplot(data=df, x=\"Price\", binwidth=25, kde = True)\n",
        "chart1.set_xticklabels(chart1.get_xticklabels(), rotation=90)\n",
        "# plot boxplot of price to distingish outliers\n",
        "plt.subplot(1,2,2)\n",
        "chart2 = sns.boxplot(df.Price, orient=\"h\")\n",
        "plt.show()"
      ]
    },
    {
      "cell_type": "code",
      "execution_count": 62,
      "metadata": {
        "colab": {
          "base_uri": "https://localhost:8080/",
          "height": 388
        },
        "id": "vDiFq8hPwY1u",
        "outputId": "8ff2b22b-b309-44c5-e15b-1b16187e67aa"
      },
      "outputs": [
        {
          "data": {
            "image/png": "[encoded data removed]",
            "text/plain": [
              "<Figure size 1000x400 with 2 Axes>"
            ]
          },
          "metadata": {},
          "output_type": "display_data"
        }
      ],
      "source": [
        "#plot the no. of stops frequency and see the relationshop with price\n",
        "plt.figure(figsize=(10,4))\n",
        "plt.subplot(1,2,1)\n",
        "chart3 = sns.histplot(data=dataframe.sort_values('No_of_Stop'), x=\"No_of_Stop\")\n",
        "plt.subplot(1,2,2)\n",
        "chart4 = sns.scatterplot(data=df.sort_values('No_of_Stop'), x=\"No_of_Stop\", y=\"Price\")\n",
        "plt.show()"
      ]
    },
    {
      "cell_type": "code",
      "execution_count": 63,
      "metadata": {
        "colab": {
          "base_uri": "https://localhost:8080/",
          "height": 549
        },
        "id": "-Ptt_8BczN6F",
        "outputId": "360482fb-ea5a-4c9f-dc6d-33a6f399d4b1"
      },
      "outputs": [
        {
          "data": {
            "image/png": "[encoded data removed]",
            "text/plain": [
              "<Figure size 1000x400 with 1 Axes>"
            ]
          },
          "metadata": {},
          "output_type": "display_data"
        }
      ],
      "source": [
        "# plot the frequency of Airplan Company\n",
        "# Flatten all records of Airline companies into a big list\n",
        "Airplane_flatten = [item for sublist in df['Airline'] for item in sublist]\n",
        "# Sort the list\n",
        "Airplane_flatten.sort()\n",
        "plt.figure(figsize=(10,4))\n",
        "plt.subplot(1,1,1)\n",
        "chart5 = sns.histplot(data=Airplane_flatten)\n",
        "chart5.set_xticklabels(chart5.get_xticklabels(), rotation=90)\n",
        "plt.show()\n",
        "\n"
      ]
    },
    {
      "cell_type": "code",
      "execution_count": 64,
      "metadata": {
        "colab": {
          "base_uri": "https://localhost:8080/",
          "height": 391
        },
        "id": "9jnOBzL5GVuT",
        "outputId": "d8457a53-0fad-49d0-d0fe-3783676894d7"
      },
      "outputs": [
        {
          "data": {
            "image/png": "[encoded data removed]",
            "text/plain": [
              "<Figure size 1000x400 with 4 Axes>"
            ]
          },
          "metadata": {},
          "output_type": "display_data"
        }
      ],
      "source": [
        "# plot the departure frequency in Hours\n",
        "plt.figure(figsize=(10,4))\n",
        "plt.subplot(2,2,1)\n",
        "chart6 = sns.histplot(data=df.sort_values('Departure_Time')['Departure_Time'], kde = True)\n",
        "chart6.set_xticklabels(chart6.get_xticklabels(), rotation=90)\n",
        "plt.subplot(2,2,2)\n",
        "chart7 = sns.histplot(data=df.sort_values('Arriving_Time')['Arriving_Time'], kde = True)\n",
        "chart7.set_xticklabels(chart6.get_xticklabels(), rotation=90)\n",
        "\n",
        "# plot the relationship betweeen price and departure time, remove some outliers in price\n",
        "df_filter_price = df.where(df['Price']<700).dropna().copy()\n",
        "plt.subplot(2,2,3)\n",
        "chart8 = sns.scatterplot(data=df_filter_price.sort_values('Departure_Time'), x=\"Departure_Time\", y=\"Price\")\n",
        "# plot the relationship betweeen price and arriving time, remove some outliers in price\n",
        "plt.subplot(2,2,4)\n",
        "chart9 = sns.scatterplot(data=df_filter_price.sort_values('Arriving_Time'), x=\"Arriving_Time\", y=\"Price\")\n",
        "plt.show()"
      ]
    },
    {
      "cell_type": "code",
      "execution_count": 65,
      "metadata": {
        "colab": {
          "base_uri": "https://localhost:8080/",
          "height": 419
        },
        "id": "Xhys8x1uD7pp",
        "outputId": "5f8b64a1-f9e3-479d-8391-fd169fffd46e"
      },
      "outputs": [
        {
          "data": {
            "image/png": "[encoded data removed]",
            "text/plain": [
              "<Figure size 1000x400 with 1 Axes>"
            ]
          },
          "metadata": {},
          "output_type": "display_data"
        }
      ],
      "source": [
        "# plot the frequency of Layover City\n",
        "# Flatten all records of Layover_Citys into a big list\n",
        "Layover_Citys_flatten = [item for sublist in df['Layover_Citys'] for item in sublist]\n",
        "# Strip whitespace if there is any in the list for ranking purpose\n",
        "Layover_Citys_flatten = [x.strip(' ') for x in Layover_Citys_flatten]\n",
        "# sort the Layover_Citys\n",
        "Layover_Citys_flatten.sort()\n",
        "plt.figure(figsize=(10,4))\n",
        "plt.subplot(1,1,1)\n",
        "chart10 = sns.histplot(data=Layover_Citys_flatten)\n",
        "chart10.set_xticklabels(chart10.get_xticklabels(), rotation=90)\n",
        "plt.show()"
      ]
    },
    {
      "cell_type": "code",
      "execution_count": 66,
      "metadata": {
        "colab": {
          "base_uri": "https://localhost:8080/",
          "height": 368
        },
        "id": "lso15XlzQMwK",
        "outputId": "e4e0d814-e5e2-4f71-d451-e5a6e456951e"
      },
      "outputs": [
        {
          "data": {
            "image/png": "[encoded data removed]",
            "text/plain": [
              "<Figure size 1000x400 with 2 Axes>"
            ]
          },
          "metadata": {},
          "output_type": "display_data"
        }
      ],
      "source": [
        "# plot the distribution of Layover time\n",
        "# Flatten all records of Saperated_Layover_Time_in_Hours into a big list\n",
        "Saperated_Layover_Time_in_Hours_flatten = [item for sublist in df['Saperated_Layover_Time_in_Hours'] for item in sublist]\n",
        "# sort the list\n",
        "Saperated_Layover_Time_in_Hours_flatten.sort()\n",
        "plt.figure(figsize=(10,4))\n",
        "plt.subplot(1,2,1)\n",
        "chart11 = sns.boxplot(Saperated_Layover_Time_in_Hours_flatten, orient=\"h\")\n",
        "plt.subplot(1,2,2)\n",
        "chart12 = sns.histplot(data=Saperated_Layover_Time_in_Hours_flatten, binwidth=0.2, kde = True)\n",
        "plt.show()"
      ]
    },
    {
      "cell_type": "code",
      "execution_count": 67,
      "metadata": {
        "colab": {
          "base_uri": "https://localhost:8080/",
          "height": 368
        },
        "id": "Wud1rr3YVu_T",
        "outputId": "33d071f0-bdd4-48e1-b798-af36607a1644"
      },
      "outputs": [
        {
          "data": {
            "image/png": "[encoded data removed]",
            "text/plain": [
              "<Figure size 1000x400 with 2 Axes>"
            ]
          },
          "metadata": {},
          "output_type": "display_data"
        }
      ],
      "source": [
        "# plot the distribution of Total trip Duration\n",
        "Total_Trip_Duration_in_Hours_flatten = df['Total_Trip_Duration_in_Hours'].to_list()\n",
        "Total_Trip_Duration_in_Hours_flatten.sort()\n",
        "plt.figure(figsize=(10,4))\n",
        "plt.subplot(1,2,1)\n",
        "chart13 = sns.boxplot(Total_Trip_Duration_in_Hours_flatten, orient=\"h\")\n",
        "plt.subplot(1,2,2)\n",
        "chart14 = sns.histplot(data=Total_Trip_Duration_in_Hours_flatten, binwidth=0.3, kde = True)\n",
        "plt.show()"
      ]
    },
    {
      "cell_type": "code",
      "execution_count": 68,
      "metadata": {
        "colab": {
          "base_uri": "https://localhost:8080/",
          "height": 631
        },
        "id": "HuhAZxrGWgqb",
        "outputId": "fe2144d0-b974-4d19-fd83-d48e322dca09"
      },
      "outputs": [
        {
          "data": {
            "image/png": "[encoded data removed]",
            "text/plain": [
              "<Figure size 1000x400 with 1 Axes>"
            ]
          },
          "metadata": {},
          "output_type": "display_data"
        }
      ],
      "source": [
        "# plot the frequency of Airsraft Type\n",
        "# Flatten all records of Type_of_Aircraft into a big list\n",
        "Type_of_Aircraft_flatten = [item for sublist in df['Type_of_Aircraft'] for item in sublist]\n",
        "Type_of_Aircraft_flatten.sort()\n",
        "plt.figure(figsize=(10,4))\n",
        "plt.subplot(1,1,1)\n",
        "chart15 = sns.histplot(data=Type_of_Aircraft_flatten)\n",
        "chart15.set_xticklabels(chart15.get_xticklabels(), rotation=90)\n",
        "plt.show()"
      ]
    },
    {
      "cell_type": "markdown",
      "metadata": {
        "id": "aVh0QiaUXmhN"
      },
      "source": [
        "###Interaction with the user"
      ]
    },
    {
      "cell_type": "code",
      "execution_count": 69,
      "metadata": {
        "id": "fIsJv4a7Xqfe"
      },
      "outputs": [],
      "source": [
        "# Data pre-processing\n",
        "from re import sub\n",
        "from decimal import Decimal\n",
        "# copy to a new dataframe df_interactive\n",
        "df_interactive = df.copy()"
      ]
    },
    {
      "cell_type": "code",
      "execution_count": 70,
      "metadata": {
        "colab": {
          "base_uri": "https://localhost:8080/",
          "height": 1000,
          "referenced_widgets": [
            "e9556f62d09740d8a1adf0271f2653f3",
            "bffaf182fa7e46d18763ea6d4940a386",
            "e915a33930aa4e3e86d8d0423b5590b6",
            "8c70280f6acc42b8b4e2d25bcbb0374f",
            "e64e6b131cd9459ba2909516664f0823",
            "2ec38f4e9be9432fa6648ac9ff666aca",
            "ce1488b37c5c410091a8988ceb196425",
            "e77a3998dad744fdaefc0b00cfe1265b",
            "21349e7c42c34e7fa31789f5bcb5a45b",
            "b57d8fc9c1eb4d759c6efa2239388fe0",
            "50bc3b8b2d8c49bbabccfcf400fb005f",
            "9069cc7bcb4b48ae9b890e26fa391a61",
            "0e392c935ff44aed8fa0ef031e3f52ad",
            "2c1fc9af8f47458e9b461c2173ebcb8a",
            "727731534fa94b008210580c68db7ca9",
            "ab018486912043dd98b85d941adaab6a",
            "f46d02724b3e4255bbe4ac1930f6d20e",
            "291c467baffb42c3b7c70a8556e314a5",
            "0cc1e177c79a48439eb8127d917e3b28",
            "cdea307e1fa84e0aad309fd217370e3e",
            "997feaa104d048d8bbd18e00ae5932c3",
            "d1317667a34243ca9e323a3c195986e4",
            "f7b2e1c07c754c568b134fd9d45d86d7",
            "34eba90057b74f22b2876e8cbb97d814",
            "b56d66f7a0e447dba1598d5e1eacee55"
          ]
        },
        "id": "_aVm8vxdYXC4",
        "outputId": "0b604ed6-1983-47df-ddaf-365cc7b8053b"
      },
      "outputs": [
        {
          "data": {
            "application/vnd.jupyter.widget-view+json": {
              "model_id": "e9556f62d09740d8a1adf0271f2653f3",
              "version_major": 2,
              "version_minor": 0
            },
            "text/plain": [
              "interactive(children=(FloatRangeSlider(value=(27.0, 2026.0), continuous_update=False, description='Price Range…"
            ]
          },
          "metadata": {},
          "output_type": "display_data"
        }
      ],
      "source": [
        "# Use interactive widgets to achieve user interaction\n",
        "from ipywidgets import interact, interactive, fixed, interact_manual, Button, Layout, Layout, Box, FloatText, Textarea, Dropdown, Label, IntSlider\n",
        "import ipywidgets as widgets\n",
        "import random\n",
        "\n",
        "# Data preparation, define the default values/min-max values in the widgets\n",
        "price_min = min(df_interactive.Price)\n",
        "price_max = max(df_interactive.Price)\n",
        "Total_Trip_Duration_min = min(df_interactive.Total_Trip_Duration_in_Hours)\n",
        "Total_Trip_Duration_max = max(df_interactive.Total_Trip_Duration_in_Hours)\n",
        "No_of_Stop_Unique = df_interactive.No_of_Stop.unique()\n",
        "No_of_Stop_Unique.sort()\n",
        "No_of_Stop_Unique_List = No_of_Stop_Unique.tolist()\n",
        "Airline_Companies_flatten = [item for sublist in df_interactive['Airline'] for item in sublist]\n",
        "Airline_Company_Unique = np.unique(Airline_Companies_flatten)\n",
        "Airline_Company_Unique.sort()\n",
        "Airline_Company_Unique_List = Airline_Company_Unique.tolist()\n",
        "# In case User want to see all Airline_Company, we give him this option\n",
        "Airline_Company_Unique_List.insert(0, \"ALL\")\n",
        "# In case User want to see all No_of_Stop, we give him this option\n",
        "No_of_Stop_Unique_List.insert(0, \"ALL\")\n",
        "\n",
        "\n",
        "\n",
        "# define the style of description for each widget to display all the long content\n",
        "style = {'description_width': 'initial'}\n",
        "\n",
        "# define the interactive widgets\n",
        "@widgets.interact(\n",
        "  form_item_layout = Layout(\n",
        "      display='flex',\n",
        "      flex_flow='row',\n",
        "      justify_content='space-between'\n",
        "  ),price_choice = widgets.FloatRangeSlider(\n",
        "      value=[price_min, price_max],\n",
        "      min=price_min,\n",
        "      max=price_max,\n",
        "      step=1,\n",
        "      description='Price Range($):',\n",
        "      disabled=False,\n",
        "      continuous_update=False,\n",
        "      orientation='horizontal',\n",
        "      readout=True,\n",
        "      readout_format='.1f',\n",
        "      layout=Layout(width='50%'),\n",
        "      style=style\n",
        "  ),trip_duration_choice = widgets.FloatRangeSlider(\n",
        "      value=[Total_Trip_Duration_min, Total_Trip_Duration_max],\n",
        "      min=Total_Trip_Duration_min,\n",
        "      max=Total_Trip_Duration_max,\n",
        "      step=0.1,\n",
        "      description='Trip Duration in Hours(e.g. 1.2):',\n",
        "      disabled=False,\n",
        "      continuous_update=False,\n",
        "      orientation='horizontal',\n",
        "      readout=True,\n",
        "      readout_format='.1f',\n",
        "      layout=Layout(width='50%'),\n",
        "      style=style\n",
        "  ),no_of_stops_choice=widgets.Dropdown(\n",
        "      options=No_of_Stop_Unique_List,\n",
        "      value='ALL',\n",
        "      description='No. of Stops',\n",
        "      disabled=False,\n",
        "      layout=Layout(width='50%'),\n",
        "      style=style\n",
        "  ),\n",
        "  max_layover_duration_choice = widgets.Text(\n",
        "      value='1000',\n",
        "      placeholder='total accepted layover time in Hours(e.g. 1.2)',\n",
        "      description='Maximum Layover Duration in Hours(e.g. 1.2):',\n",
        "      disabled=False,\n",
        "      layout=Layout(width='50%'),\n",
        "      style=style\n",
        "  ),flight_company_choice=widgets.Dropdown(\n",
        "      options=Airline_Company_Unique_List,\n",
        "      value=\"ALL\",\n",
        "      description='Airline Company:',\n",
        "      disabled=False,\n",
        "      layout=Layout(width='50%'),\n",
        "      style=style\n",
        "  ),ranking = widgets.Dropdown(\n",
        "      options=['Cheapest', 'Fastest'],\n",
        "      value='Cheapest',\n",
        "      description='Ranking Strategy:',\n",
        "      disabled=False,\n",
        "      layout=Layout(width='50%'),\n",
        "      style=style\n",
        "  ),earliest_available_time_choice = widgets.Dropdown(\n",
        "      options=['00','01', '02','03', '04','05', '06','07', '08','09', '10','11', '12','13', '14','15', '16','17', '18','19', '20','21', '22','23'],\n",
        "      value='08',\n",
        "      description='Earliest Available Time:',\n",
        "      disabled=False,\n",
        "      layout=Layout(width='50%'),\n",
        "      style=style\n",
        "  )\n",
        ")\n",
        "\n",
        "\n",
        "# Define the call back function\n",
        "def f(price_choice, trip_duration_choice, no_of_stops_choice, max_layover_duration_choice, flight_company_choice, ranking, earliest_available_time_choice):\n",
        "  # define a print_result function for the formatted content\n",
        "  def print_result(result, ranking):\n",
        "    # Catch the no record exception and print no record alert\n",
        "    try:\n",
        "      # get the first row to extract data\n",
        "      price = result.iloc[0]['Price']\n",
        "      trip_duration = result.iloc[0]['Total_Trip_Duration_in_Hours']\n",
        "      layover_cities = result.iloc[0]['Layover_Citys']\n",
        "      layover_times = result.iloc[0]['Saperated_Layover_Time_in_Hours']\n",
        "      aircraft_type = result.iloc[0]['Type_of_Aircraft']\n",
        "      departure_time = result.iloc[0]['Departure_Time_Exact']\n",
        "      arriving_time = result.iloc[0]['Arriving_Time_Exact']\n",
        "      airline_company = result.iloc[0]['Airline']\n",
        "      source = result.iloc[0]['Source_of_Info']\n",
        "      # turn flag 'Is_Direct_Flight' to Yes or No\n",
        "      if result.iloc[0]['Is_Direct_Flight'] == '1' :\n",
        "        is_direct_flight = 'Yes'\n",
        "      else:\n",
        "        is_direct_flight = 'No'\n",
        "\n",
        "      # print formatted info. out\n",
        "      print('''\\n\\n\\nBased on your selection, the {0} flight is: \\n\n",
        "          Price in Dollar: {1} \\n\n",
        "          Total Duration in Hours : {2} \\n\n",
        "          Is it a direct flight? : {3} \\n\n",
        "          Layover Cities: {4} \\n\n",
        "          Layover time(Hours) in each city: {5} \\n\n",
        "          Type of Aircraft for each trip : {6} \\n\n",
        "          Departure time at : {7} \\n\n",
        "          Departure time at : {8} \\n\n",
        "          Airline company for each flight : {9} \\n\n",
        "          Source of Info. : {10} \\n\n",
        "          '''\n",
        "          .format((ranking),(price),(trip_duration),(is_direct_flight),(layover_cities),(layover_times),(aircraft_type),(departure_time),(arriving_time),(airline_company),(source))\n",
        "      )\n",
        "    except:\n",
        "      print('\\n\\n\\nNo Record, try to expand your selection criterion \\n')\n",
        "\n",
        "  # instantly get the user inputs from widgets, and upadte the results through interactive widget, and print it out\n",
        "  price_min, price_max = price_choice\n",
        "  trip_duration_min, trip_duration_max = trip_duration_choice\n",
        "  no_of_stops = no_of_stops_choice\n",
        "  max_layover_duration = max_layover_duration_choice\n",
        "  flight_company = flight_company_choice\n",
        "  ranking = ranking\n",
        "  earliest_available_time = earliest_available_time_choice\n",
        "  # add Total_Layover_Time_in_Hours colume for filtering purpose\n",
        "  df_interactive['Total_Layover_Time_in_Hours'] =  df_interactive['Saperated_Layover_Time_in_Hours'].apply(lambda x: sum(x))\n",
        "  # if user do not give default duration for max_layover_duration, set it to 1000 to say that there is no consideration for limiting the layover time\n",
        "  if max_layover_duration == '':\n",
        "    max_layover_duration = '1000'\n",
        "  #  Preparing the cast\n",
        "  if flight_company == 'ALL':\n",
        "    if no_of_stops == 'ALL':\n",
        "      # Display results for all company and all no. of stops\n",
        "      df_cast = ((df_interactive.Price<=price_max) & (df_interactive.Price>=price_min) & (df_interactive.Departure_Time >= earliest_available_time) &\n",
        "                (df_interactive.Total_Trip_Duration_in_Hours >= trip_duration_min) & (df_interactive.Total_Trip_Duration_in_Hours <= trip_duration_max) &\n",
        "                (df_interactive.Total_Layover_Time_in_Hours <= float(max_layover_duration))\n",
        "      )\n",
        "    else:\n",
        "      # Display results for all company and specific no. of stops\n",
        "      df_cast = (\n",
        "               (df_interactive.Price<=price_max) & (df_interactive.Price>=price_min) &\n",
        "               (df_interactive.No_of_Stop == no_of_stops) & (df_interactive.Departure_Time >= earliest_available_time) &\n",
        "               (df_interactive.Total_Trip_Duration_in_Hours >= trip_duration_min) & (df_interactive.Total_Trip_Duration_in_Hours <= trip_duration_max) &\n",
        "               (df_interactive.Total_Layover_Time_in_Hours <= float(max_layover_duration))\n",
        "                )\n",
        "  else:\n",
        "    if no_of_stops == 'ALL':\n",
        "      # Display results for specific company and all no. of stops\n",
        "      df_cast = (\n",
        "              (df_interactive.Price<=price_max) & (df_interactive.Price>=price_min) &\n",
        "              (df_interactive.Airline.apply(lambda x: flight_company in x)) & (df_interactive.Departure_Time >= earliest_available_time) &\n",
        "              (df_interactive.Total_Trip_Duration_in_Hours >= trip_duration_min) & (df_interactive.Total_Trip_Duration_in_Hours <= trip_duration_max) &\n",
        "              (df_interactive.Total_Layover_Time_in_Hours<= float(max_layover_duration))\n",
        "              )\n",
        "    else:\n",
        "      # Display results for specific company and specific no. of stops\n",
        "      df_cast = (\n",
        "                (df_interactive.Price<=price_max) & (df_interactive.Price>=price_min) &\n",
        "                (df_interactive.No_of_Stop == no_of_stops) &\n",
        "                (df_interactive.Airline.apply(lambda x: flight_company in x)) & (df_interactive.Departure_Time >= earliest_available_time) &\n",
        "                (df_interactive.Total_Trip_Duration_in_Hours >= trip_duration_min) & (df_interactive.Total_Trip_Duration_in_Hours <= trip_duration_max) &\n",
        "                (df_interactive.Total_Layover_Time_in_Hours<= float(max_layover_duration))\n",
        "                )\n",
        "\n",
        "  # use the cast to get the result\n",
        "  result = df_interactive[df_cast]\n",
        "  # sort the result based on the ranking strategy\n",
        "  if ranking == 'Cheapest':\n",
        "    # rank the result first by price and then by trip duration\n",
        "    result.sort_values(['Price','Total_Trip_Duration_in_Hours'] ,inplace=True, ascending = [True, True])\n",
        "  else:\n",
        "    # rank the result first by  trip duration and then by price\n",
        "    result.sort_values(['Total_Trip_Duration_in_Hours', 'Price'],inplace=True, ascending = [True, True])\n",
        "\n",
        "  # Print the most cheapest/fastest flight based on user's choice\n",
        "  print_result(result, ranking)\n",
        "  # Instantly update result in the format of dataframe\n",
        "  return result\n"
      ]
    }
  ],
  "metadata": {
    "colab": {
      "collapsed_sections": [
        "IflMTmJs2w9d",
        "Ce3fDFkf4yZh",
        "V14gjL_W47I2",
        "HXHw49aI5CZp",
        "_HhkkYOM5JTO",
        "xd90Mj7D1lJE",
        "7-XKpsth1790",
        "NLzXx_yo2FHh",
        "M9nBmkpGaBZ3",
        "WRwbLMeCcYVq",
        "nuUw5I0Y6N51",
        "BPZwVWRMhkg2",
        "B2pXVAX2G0kz",
        "M9DIq1Q5wY6e",
        "z_R0D6r3dFKR",
        "aVh0QiaUXmhN"
      ],
      "provenance": []
    },
    "kernelspec": {
      "display_name": "Python 3",
      "name": "python3"
    },
    "language_info": {
      "name": "python"
    },
    "widgets": {
      "application/vnd.jupyter.widget-state+json": {
        "0cc1e177c79a48439eb8127d917e3b28": {
          "model_module": "@jupyter-widgets/base",
          "model_module_version": "1.2.0",
          "model_name": "LayoutModel",
          "state": {
            "_model_module": "@jupyter-widgets/base",
            "_model_module_version": "1.2.0",
            "_model_name": "LayoutModel",
            "_view_count": null,
            "_view_module": "@jupyter-widgets/base",
            "_view_module_version": "1.2.0",
            "_view_name": "LayoutView",
            "align_content": null,
            "align_items": null,
            "align_self": null,
            "border": null,
            "bottom": null,
            "display": null,
            "flex": null,
            "flex_flow": null,
            "grid_area": null,
            "grid_auto_columns": null,
            "grid_auto_flow": null,
            "grid_auto_rows": null,
            "grid_column": null,
            "grid_gap": null,
            "grid_row": null,
            "grid_template_areas": null,
            "grid_template_columns": null,
            "grid_template_rows": null,
            "height": null,
            "justify_content": null,
            "justify_items": null,
            "left": null,
            "margin": null,
            "max_height": null,
            "max_width": null,
            "min_height": null,
            "min_width": null,
            "object_fit": null,
            "object_position": null,
            "order": null,
            "overflow": null,
            "overflow_x": null,
            "overflow_y": null,
            "padding": null,
            "right": null,
            "top": null,
            "visibility": null,
            "width": "50%"
          }
        },
        "0e392c935ff44aed8fa0ef031e3f52ad": {
          "model_module": "@jupyter-widgets/base",
          "model_module_version": "1.2.0",
          "model_name": "LayoutModel",
          "state": {
            "_model_module": "@jupyter-widgets/base",
            "_model_module_version": "1.2.0",
            "_model_name": "LayoutModel",
            "_view_count": null,
            "_view_module": "@jupyter-widgets/base",
            "_view_module_version": "1.2.0",
            "_view_name": "LayoutView",
            "align_content": null,
            "align_items": null,
            "align_self": null,
            "border": null,
            "bottom": null,
            "display": null,
            "flex": null,
            "flex_flow": null,
            "grid_area": null,
            "grid_auto_columns": null,
            "grid_auto_flow": null,
            "grid_auto_rows": null,
            "grid_column": null,
            "grid_gap": null,
            "grid_row": null,
            "grid_template_areas": null,
            "grid_template_columns": null,
            "grid_template_rows": null,
            "height": null,
            "justify_content": null,
            "justify_items": null,
            "left": null,
            "margin": null,
            "max_height": null,
            "max_width": null,
            "min_height": null,
            "min_width": null,
            "object_fit": null,
            "object_position": null,
            "order": null,
            "overflow": null,
            "overflow_x": null,
            "overflow_y": null,
            "padding": null,
            "right": null,
            "top": null,
            "visibility": null,
            "width": "50%"
          }
        },
        "21349e7c42c34e7fa31789f5bcb5a45b": {
          "model_module": "@jupyter-widgets/output",
          "model_module_version": "1.0.0",
          "model_name": "OutputModel",
          "state": {
            "_dom_classes": [],
            "_model_module": "@jupyter-widgets/output",
            "_model_module_version": "1.0.0",
            "_model_name": "OutputModel",
            "_view_count": null,
            "_view_module": "@jupyter-widgets/output",
            "_view_module_version": "1.0.0",
            "_view_name": "OutputView",
            "layout": "IPY_MODEL_b56d66f7a0e447dba1598d5e1eacee55",
            "msg_id": "",
            "outputs": [
              {
                "name": "stdout",
                "output_type": "stream",
                "text": [
                  "\n",
                  "\n",
                  "\n",
                  "Based on your selection, the Cheapest flight is: \n",
                  "\n",
                  "          Price in Dollar: 27 \n",
                  "\n",
                  "          Total Duration in Hours : 3.25 \n",
                  "\n",
                  "          Is it a direct flight? : No \n",
                  "\n",
                  "          Layover Cities: [] \n",
                  "\n",
                  "          Layover time(Hours) in each city: [] \n",
                  "\n",
                  "          Type of Aircraft for each trip : ['Boeing 737 MAX 8'] \n",
                  "\n",
                  "          Departure time at : 6:50 pm \n",
                  "\n",
                  "          Departure time at : 9:05 pm \n",
                  "\n",
                  "          Airline company for each flight : ['Ryanair'] \n",
                  "\n",
                  "          Source of Info. : Momondo \n",
                  "\n",
                  "          \n"
                ]
              },
              {
                "data": {
                  "text/html": "\n  <div id=\"df-baaf4757-c58c-4c7b-a740-adc3604a923d\" class=\"colab-df-container\">\n    <div>\n<style scoped>\n    .dataframe tbody tr th:only-of-type {\n        vertical-align: middle;\n    }\n\n    .dataframe tbody tr th {\n        vertical-align: top;\n    }\n\n    .dataframe thead th {\n        text-align: right;\n    }\n</style>\n<table border=\"1\" class=\"dataframe\">\n  <thead>\n    <tr style=\"text-align: right;\">\n      <th></th>\n      <th>Price</th>\n      <th>No_of_Stop</th>\n      <th>Airline</th>\n      <th>Departure_Time</th>\n      <th>Arriving_Time</th>\n      <th>Is_Direct_Flight</th>\n      <th>Layover_Citys</th>\n      <th>Saperated_Layover_Time_in_Hours</th>\n      <th>Total_Trip_Duration_in_Hours</th>\n      <th>Type_of_Aircraft</th>\n      <th>Source_of_Info</th>\n      <th>Departure_Time_Exact</th>\n      <th>Arriving_Time_Exact</th>\n      <th>Total_Layover_Time_in_Hours</th>\n    </tr>\n  </thead>\n  <tbody>\n    <tr>\n      <th>80</th>\n      <td>27</td>\n      <td>0</td>\n      <td>[Ryanair]</td>\n      <td>18</td>\n      <td>21</td>\n      <td>1</td>\n      <td>[]</td>\n      <td>[]</td>\n      <td>3.25</td>\n      <td>[Boeing 737 MAX 8]</td>\n      <td>Momondo</td>\n      <td>6:50 pm</td>\n      <td>9:05 pm</td>\n      <td>0.00</td>\n    </tr>\n    <tr>\n      <th>81</th>\n      <td>27</td>\n      <td>0</td>\n      <td>[Ryanair]</td>\n      <td>18</td>\n      <td>21</td>\n      <td>1</td>\n      <td>[]</td>\n      <td>[]</td>\n      <td>3.25</td>\n      <td>[Boeing 737 MAX 8]</td>\n      <td>Momondo</td>\n      <td>6:50 pm</td>\n      <td>9:05 pm</td>\n      <td>0.00</td>\n    </tr>\n    <tr>\n      <th>207</th>\n      <td>27</td>\n      <td>0</td>\n      <td>[Ryanair]</td>\n      <td>18</td>\n      <td>21</td>\n      <td>1</td>\n      <td>[]</td>\n      <td>[]</td>\n      <td>3.25</td>\n      <td>[Boeing 737 MAX 8]</td>\n      <td>Kayak</td>\n      <td>6:50 pm</td>\n      <td>9:05 pm</td>\n      <td>0.00</td>\n    </tr>\n    <tr>\n      <th>96</th>\n      <td>95</td>\n      <td>1</td>\n      <td>[Ryanair, easyJet]</td>\n      <td>22</td>\n      <td>09</td>\n      <td>0</td>\n      <td>[STN-LTN]</td>\n      <td>[7.75]</td>\n      <td>12.25</td>\n      <td>[Boeing 737 MAX 8, Airbus A320-100/200]</td>\n      <td>Momondo</td>\n      <td>10:05 pm</td>\n      <td>9:20 am+1</td>\n      <td>7.75</td>\n    </tr>\n    <tr>\n      <th>228</th>\n      <td>95</td>\n      <td>1</td>\n      <td>[Ryanair, easyJet]</td>\n      <td>22</td>\n      <td>09</td>\n      <td>0</td>\n      <td>[STN-LTN]</td>\n      <td>[7.75]</td>\n      <td>12.25</td>\n      <td>[Boeing 737 MAX 8, Airbus A320-100/200]</td>\n      <td>Kayak</td>\n      <td>10:05 pm</td>\n      <td>9:20 am+1</td>\n      <td>7.75</td>\n    </tr>\n    <tr>\n      <th>...</th>\n      <td>...</td>\n      <td>...</td>\n      <td>...</td>\n      <td>...</td>\n      <td>...</td>\n      <td>...</td>\n      <td>...</td>\n      <td>...</td>\n      <td>...</td>\n      <td>...</td>\n      <td>...</td>\n      <td>...</td>\n      <td>...</td>\n      <td>...</td>\n    </tr>\n    <tr>\n      <th>198</th>\n      <td>816</td>\n      <td>2</td>\n      <td>[Scandinavian Airlines]</td>\n      <td>10</td>\n      <td>19</td>\n      <td>0</td>\n      <td>[ARN, CPH]</td>\n      <td>[4.83, 1.0]</td>\n      <td>10.08</td>\n      <td>[Canadair (Bombardier) Regional Jet 900, Airbu...</td>\n      <td>Momondo</td>\n      <td>10:15 am</td>\n      <td>7:20 pm</td>\n      <td>5.83</td>\n    </tr>\n    <tr>\n      <th>321</th>\n      <td>816</td>\n      <td>2</td>\n      <td>[Scandinavian Airlines]</td>\n      <td>10</td>\n      <td>19</td>\n      <td>0</td>\n      <td>[ARN, CPH]</td>\n      <td>[4.83, 1.0]</td>\n      <td>10.08</td>\n      <td>[Canadair (Bombardier) Regional Jet 900, Airbu...</td>\n      <td>Kayak</td>\n      <td>10:15 am</td>\n      <td>7:20 pm</td>\n      <td>5.83</td>\n    </tr>\n    <tr>\n      <th>322</th>\n      <td>816</td>\n      <td>2</td>\n      <td>[Scandinavian Airlines]</td>\n      <td>10</td>\n      <td>19</td>\n      <td>0</td>\n      <td>[ARN, CPH]</td>\n      <td>[3.08, 2.83]</td>\n      <td>10.08</td>\n      <td>[Canadair (Bombardier) Regional Jet 900, Airbu...</td>\n      <td>Kayak</td>\n      <td>10:15 am</td>\n      <td>7:20 pm</td>\n      <td>5.91</td>\n    </tr>\n    <tr>\n      <th>203</th>\n      <td>2020</td>\n      <td>1</td>\n      <td>[Scandinavian Airlines, Air France]</td>\n      <td>10</td>\n      <td>15</td>\n      <td>0</td>\n      <td>[ARN]</td>\n      <td>[2.58]</td>\n      <td>6.33</td>\n      <td>[Canadair (Bombardier) Regional Jet 900, Airbu...</td>\n      <td>Momondo</td>\n      <td>10:15 am</td>\n      <td>3:35 pm</td>\n      <td>2.58</td>\n    </tr>\n    <tr>\n      <th>205</th>\n      <td>2020</td>\n      <td>1</td>\n      <td>[Scandinavian Airlines, Air France]</td>\n      <td>13</td>\n      <td>21</td>\n      <td>0</td>\n      <td>[ARN]</td>\n      <td>[5.25]</td>\n      <td>9.08</td>\n      <td>[Canadair (Bombardier) Regional Jet 900, Airbu...</td>\n      <td>Momondo</td>\n      <td>1:30 pm</td>\n      <td>9:35 pm</td>\n      <td>5.25</td>\n    </tr>\n  </tbody>\n</table>\n<p>188 rows × 14 columns</p>\n</div>\n    <div class=\"colab-df-buttons\">\n\n  <div class=\"colab-df-container\">\n    <button class=\"colab-df-convert\" onclick=\"convertToInteractive('df-baaf4757-c58c-4c7b-a740-adc3604a923d')\"\n            title=\"Convert this dataframe to an interactive table.\"\n            style=\"display:none;\">\n\n  <svg xmlns=\"http://www.w3.org/2000/svg\" height=\"24px\" viewBox=\"0 -960 960 960\">\n    <path d=\"M120-120v-720h720v720H120Zm60-500h600v-160H180v160Zm220 220h160v-160H400v160Zm0 220h160v-160H400v160ZM180-400h160v-160H180v160Zm440 0h160v-160H620v160ZM180-180h160v-160H180v160Zm440 0h160v-160H620v160Z\"/>\n  </svg>\n    </button>\n\n  <style>\n    .colab-df-container {\n      display:flex;\n      gap: 12px;\n    }\n\n    .colab-df-convert {\n      background-color: #E8F0FE;\n      border: none;\n      border-radius: 50%;\n      cursor: pointer;\n      display: none;\n      fill: #1967D2;\n      height: 32px;\n      padding: 0 0 0 0;\n      width: 32px;\n    }\n\n    .colab-df-convert:hover {\n      background-color: #E2EBFA;\n      box-shadow: 0px 1px 2px rgba(60, 64, 67, 0.3), 0px 1px 3px 1px rgba(60, 64, 67, 0.15);\n      fill: #174EA6;\n    }\n\n    .colab-df-buttons div {\n      margin-bottom: 4px;\n    }\n\n    [theme=dark] .colab-df-convert {\n      background-color: #3B4455;\n      fill: #D2E3FC;\n    }\n\n    [theme=dark] .colab-df-convert:hover {\n      background-color: #434B5C;\n      box-shadow: 0px 1px 3px 1px rgba(0, 0, 0, 0.15);\n      filter: drop-shadow(0px 1px 2px rgba(0, 0, 0, 0.3));\n      fill: #FFFFFF;\n    }\n  </style>\n\n    <script>\n      const buttonEl =\n        document.querySelector('#df-baaf4757-c58c-4c7b-a740-adc3604a923d button.colab-df-convert');\n      buttonEl.style.display =\n        google.colab.kernel.accessAllowed ? 'block' : 'none';\n\n      async function convertToInteractive(key) {\n        const element = document.querySelector('#df-baaf4757-c58c-4c7b-a740-adc3604a923d');\n        const dataTable =\n          await google.colab.kernel.invokeFunction('convertToInteractive',\n                                                    [key], {});\n        if (!dataTable) return;\n\n        const docLinkHtml = 'Like what you see? Visit the ' +\n          '<a target=\"_blank\" href=https://colab.research.google.com/notebooks/data_table.ipynb>data table notebook</a>'\n          + ' to learn more about interactive tables.';\n        element.innerHTML = '';\n        dataTable['output_type'] = 'display_data';\n        await google.colab.output.renderOutput(dataTable, element);\n        const docLink = document.createElement('div');\n        docLink.innerHTML = docLinkHtml;\n        element.appendChild(docLink);\n      }\n    </script>\n  </div>\n\n\n<div id=\"df-3c6f6bf5-309c-4322-91a4-4beebaebeee7\">\n  <button class=\"colab-df-quickchart\" onclick=\"quickchart('df-3c6f6bf5-309c-4322-91a4-4beebaebeee7')\"\n            title=\"Suggest charts.\"\n            style=\"display:none;\">\n\n<svg xmlns=\"http://www.w3.org/2000/svg\" height=\"24px\"viewBox=\"0 0 24 24\"\n     width=\"24px\">\n    <g>\n        <path d=\"M19 3H5c-1.1 0-2 .9-2 2v14c0 1.1.9 2 2 2h14c1.1 0 2-.9 2-2V5c0-1.1-.9-2-2-2zM9 17H7v-7h2v7zm4 0h-2V7h2v10zm4 0h-2v-4h2v4z\"/>\n    </g>\n</svg>\n  </button>\n\n<style>\n  .colab-df-quickchart {\n      --bg-color: #E8F0FE;\n      --fill-color: #1967D2;\n      --hover-bg-color: #E2EBFA;\n      --hover-fill-color: #174EA6;\n      --disabled-fill-color: #AAA;\n      --disabled-bg-color: #DDD;\n  }\n\n  [theme=dark] .colab-df-quickchart {\n      --bg-color: #3B4455;\n      --fill-color: #D2E3FC;\n      --hover-bg-color: #434B5C;\n      --hover-fill-color: #FFFFFF;\n      --disabled-bg-color: #3B4455;\n      --disabled-fill-color: #666;\n  }\n\n  .colab-df-quickchart {\n    background-color: var(--bg-color);\n    border: none;\n    border-radius: 50%;\n    cursor: pointer;\n    display: none;\n    fill: var(--fill-color);\n    height: 32px;\n    padding: 0;\n    width: 32px;\n  }\n\n  .colab-df-quickchart:hover {\n    background-color: var(--hover-bg-color);\n    box-shadow: 0 1px 2px rgba(60, 64, 67, 0.3), 0 1px 3px 1px rgba(60, 64, 67, 0.15);\n    fill: var(--button-hover-fill-color);\n  }\n\n  .colab-df-quickchart-complete:disabled,\n  .colab-df-quickchart-complete:disabled:hover {\n    background-color: var(--disabled-bg-color);\n    fill: var(--disabled-fill-color);\n    box-shadow: none;\n  }\n\n  .colab-df-spinner {\n    border: 2px solid var(--fill-color);\n    border-color: transparent;\n    border-bottom-color: var(--fill-color);\n    animation:\n      spin 1s steps(1) infinite;\n  }\n\n  @keyframes spin {\n    0% {\n      border-color: transparent;\n      border-bottom-color: var(--fill-color);\n      border-left-color: var(--fill-color);\n    }\n    20% {\n      border-color: transparent;\n      border-left-color: var(--fill-color);\n      border-top-color: var(--fill-color);\n    }\n    30% {\n      border-color: transparent;\n      border-left-color: var(--fill-color);\n      border-top-color: var(--fill-color);\n      border-right-color: var(--fill-color);\n    }\n    40% {\n      border-color: transparent;\n      border-right-color: var(--fill-color);\n      border-top-color: var(--fill-color);\n    }\n    60% {\n      border-color: transparent;\n      border-right-color: var(--fill-color);\n    }\n    80% {\n      border-color: transparent;\n      border-right-color: var(--fill-color);\n      border-bottom-color: var(--fill-color);\n    }\n    90% {\n      border-color: transparent;\n      border-bottom-color: var(--fill-color);\n    }\n  }\n</style>\n\n  <script>\n    async function quickchart(key) {\n      const quickchartButtonEl =\n        document.querySelector('#' + key + ' button');\n      quickchartButtonEl.disabled = true;  // To prevent multiple clicks.\n      quickchartButtonEl.classList.add('colab-df-spinner');\n      try {\n        const charts = await google.colab.kernel.invokeFunction(\n            'suggestCharts', [key], {});\n      } catch (error) {\n        console.error('Error during call to suggestCharts:', error);\n      }\n      quickchartButtonEl.classList.remove('colab-df-spinner');\n      quickchartButtonEl.classList.add('colab-df-quickchart-complete');\n    }\n    (() => {\n      let quickchartButtonEl =\n        document.querySelector('#df-3c6f6bf5-309c-4322-91a4-4beebaebeee7 button');\n      quickchartButtonEl.style.display =\n        google.colab.kernel.accessAllowed ? 'block' : 'none';\n    })();\n  </script>\n</div>\n    </div>\n  </div>\n",
                  "text/plain": "     Price  No_of_Stop                              Airline Departure_Time  \\\n80      27           0                            [Ryanair]             18   \n81      27           0                            [Ryanair]             18   \n207     27           0                            [Ryanair]             18   \n96      95           1                   [Ryanair, easyJet]             22   \n228     95           1                   [Ryanair, easyJet]             22   \n..     ...         ...                                  ...            ...   \n198    816           2              [Scandinavian Airlines]             10   \n321    816           2              [Scandinavian Airlines]             10   \n322    816           2              [Scandinavian Airlines]             10   \n203   2020           1  [Scandinavian Airlines, Air France]             10   \n205   2020           1  [Scandinavian Airlines, Air France]             13   \n\n    Arriving_Time  Is_Direct_Flight Layover_Citys  \\\n80             21                 1            []   \n81             21                 1            []   \n207            21                 1            []   \n96             09                 0     [STN-LTN]   \n228            09                 0     [STN-LTN]   \n..            ...               ...           ...   \n198            19                 0    [ARN, CPH]   \n321            19                 0    [ARN, CPH]   \n322            19                 0    [ARN, CPH]   \n203            15                 0         [ARN]   \n205            21                 0         [ARN]   \n\n    Saperated_Layover_Time_in_Hours  Total_Trip_Duration_in_Hours  \\\n80                               []                          3.25   \n81                               []                          3.25   \n207                              []                          3.25   \n96                           [7.75]                         12.25   \n228                          [7.75]                         12.25   \n..                              ...                           ...   \n198                     [4.83, 1.0]                         10.08   \n321                     [4.83, 1.0]                         10.08   \n322                    [3.08, 2.83]                         10.08   \n203                          [2.58]                          6.33   \n205                          [5.25]                          9.08   \n\n                                      Type_of_Aircraft Source_of_Info  \\\n80                                  [Boeing 737 MAX 8]        Momondo   \n81                                  [Boeing 737 MAX 8]        Momondo   \n207                                 [Boeing 737 MAX 8]          Kayak   \n96             [Boeing 737 MAX 8, Airbus A320-100/200]        Momondo   \n228            [Boeing 737 MAX 8, Airbus A320-100/200]          Kayak   \n..                                                 ...            ...   \n198  [Canadair (Bombardier) Regional Jet 900, Airbu...        Momondo   \n321  [Canadair (Bombardier) Regional Jet 900, Airbu...          Kayak   \n322  [Canadair (Bombardier) Regional Jet 900, Airbu...          Kayak   \n203  [Canadair (Bombardier) Regional Jet 900, Airbu...        Momondo   \n205  [Canadair (Bombardier) Regional Jet 900, Airbu...        Momondo   \n\n    Departure_Time_Exact Arriving_Time_Exact  Total_Layover_Time_in_Hours  \n80               6:50 pm             9:05 pm                         0.00  \n81               6:50 pm             9:05 pm                         0.00  \n207              6:50 pm             9:05 pm                         0.00  \n96              10:05 pm           9:20 am+1                         7.75  \n228             10:05 pm           9:20 am+1                         7.75  \n..                   ...                 ...                          ...  \n198             10:15 am             7:20 pm                         5.83  \n321             10:15 am             7:20 pm                         5.83  \n322             10:15 am             7:20 pm                         5.91  \n203             10:15 am             3:35 pm                         2.58  \n205              1:30 pm             9:35 pm                         5.25  \n\n[188 rows x 14 columns]"
                },
                "metadata": {},
                "output_type": "display_data"
              }
            ]
          }
        },
        "291c467baffb42c3b7c70a8556e314a5": {
          "model_module": "@jupyter-widgets/controls",
          "model_module_version": "1.5.0",
          "model_name": "DescriptionStyleModel",
          "state": {
            "_model_module": "@jupyter-widgets/controls",
            "_model_module_version": "1.5.0",
            "_model_name": "DescriptionStyleModel",
            "_view_count": null,
            "_view_module": "@jupyter-widgets/base",
            "_view_module_version": "1.2.0",
            "_view_name": "StyleView",
            "description_width": "initial"
          }
        },
        "2c1fc9af8f47458e9b461c2173ebcb8a": {
          "model_module": "@jupyter-widgets/controls",
          "model_module_version": "1.5.0",
          "model_name": "SliderStyleModel",
          "state": {
            "_model_module": "@jupyter-widgets/controls",
            "_model_module_version": "1.5.0",
            "_model_name": "SliderStyleModel",
            "_view_count": null,
            "_view_module": "@jupyter-widgets/base",
            "_view_module_version": "1.2.0",
            "_view_name": "StyleView",
            "description_width": "initial",
            "handle_color": null
          }
        },
        "2ec38f4e9be9432fa6648ac9ff666aca": {
          "model_module": "@jupyter-widgets/controls",
          "model_module_version": "1.5.0",
          "model_name": "DropdownModel",
          "state": {
            "_dom_classes": [],
            "_model_module": "@jupyter-widgets/controls",
            "_model_module_version": "1.5.0",
            "_model_name": "DropdownModel",
            "_options_labels": [
              "ALL",
              "Aer Lingus",
              "Air Baltic",
              "Air France",
              "Austrian Airlines",
              "BlaBlaBus",
              "British Airways",
              "Brussels Airlines",
              "CitizenPlane",
              "Czech Airlines",
              "Eurowings",
              "Finnair",
              "Iberia",
              "KLM",
              "LOT",
              "Lufthansa",
              "Multiple airlines",
              "Norwegian",
              "Ryanair",
              "SWISS",
              "Scandinavian Airlines",
              "Swiss International Air Lines",
              "TAP AIR PORTUGAL",
              "Transavia",
              "Transavia France",
              "Turkish Airlines",
              "Vueling",
              "Wizz Air Malta",
              "airBaltic",
              "easyJet"
            ],
            "_view_count": null,
            "_view_module": "@jupyter-widgets/controls",
            "_view_module_version": "1.5.0",
            "_view_name": "DropdownView",
            "description": "Airline Company:",
            "description_tooltip": null,
            "disabled": false,
            "index": 0,
            "layout": "IPY_MODEL_0cc1e177c79a48439eb8127d917e3b28",
            "style": "IPY_MODEL_cdea307e1fa84e0aad309fd217370e3e"
          }
        },
        "34eba90057b74f22b2876e8cbb97d814": {
          "model_module": "@jupyter-widgets/controls",
          "model_module_version": "1.5.0",
          "model_name": "DescriptionStyleModel",
          "state": {
            "_model_module": "@jupyter-widgets/controls",
            "_model_module_version": "1.5.0",
            "_model_name": "DescriptionStyleModel",
            "_view_count": null,
            "_view_module": "@jupyter-widgets/base",
            "_view_module_version": "1.2.0",
            "_view_name": "StyleView",
            "description_width": "initial"
          }
        },
        "50bc3b8b2d8c49bbabccfcf400fb005f": {
          "model_module": "@jupyter-widgets/base",
          "model_module_version": "1.2.0",
          "model_name": "LayoutModel",
          "state": {
            "_model_module": "@jupyter-widgets/base",
            "_model_module_version": "1.2.0",
            "_model_name": "LayoutModel",
            "_view_count": null,
            "_view_module": "@jupyter-widgets/base",
            "_view_module_version": "1.2.0",
            "_view_name": "LayoutView",
            "align_content": null,
            "align_items": null,
            "align_self": null,
            "border": null,
            "bottom": null,
            "display": null,
            "flex": null,
            "flex_flow": null,
            "grid_area": null,
            "grid_auto_columns": null,
            "grid_auto_flow": null,
            "grid_auto_rows": null,
            "grid_column": null,
            "grid_gap": null,
            "grid_row": null,
            "grid_template_areas": null,
            "grid_template_columns": null,
            "grid_template_rows": null,
            "height": null,
            "justify_content": null,
            "justify_items": null,
            "left": null,
            "margin": null,
            "max_height": null,
            "max_width": null,
            "min_height": null,
            "min_width": null,
            "object_fit": null,
            "object_position": null,
            "order": null,
            "overflow": null,
            "overflow_x": null,
            "overflow_y": null,
            "padding": null,
            "right": null,
            "top": null,
            "visibility": null,
            "width": "50%"
          }
        },
        "727731534fa94b008210580c68db7ca9": {
          "model_module": "@jupyter-widgets/base",
          "model_module_version": "1.2.0",
          "model_name": "LayoutModel",
          "state": {
            "_model_module": "@jupyter-widgets/base",
            "_model_module_version": "1.2.0",
            "_model_name": "LayoutModel",
            "_view_count": null,
            "_view_module": "@jupyter-widgets/base",
            "_view_module_version": "1.2.0",
            "_view_name": "LayoutView",
            "align_content": null,
            "align_items": null,
            "align_self": null,
            "border": null,
            "bottom": null,
            "display": null,
            "flex": null,
            "flex_flow": null,
            "grid_area": null,
            "grid_auto_columns": null,
            "grid_auto_flow": null,
            "grid_auto_rows": null,
            "grid_column": null,
            "grid_gap": null,
            "grid_row": null,
            "grid_template_areas": null,
            "grid_template_columns": null,
            "grid_template_rows": null,
            "height": null,
            "justify_content": null,
            "justify_items": null,
            "left": null,
            "margin": null,
            "max_height": null,
            "max_width": null,
            "min_height": null,
            "min_width": null,
            "object_fit": null,
            "object_position": null,
            "order": null,
            "overflow": null,
            "overflow_x": null,
            "overflow_y": null,
            "padding": null,
            "right": null,
            "top": null,
            "visibility": null,
            "width": "50%"
          }
        },
        "8c70280f6acc42b8b4e2d25bcbb0374f": {
          "model_module": "@jupyter-widgets/controls",
          "model_module_version": "1.5.0",
          "model_name": "DropdownModel",
          "state": {
            "_dom_classes": [],
            "_model_module": "@jupyter-widgets/controls",
            "_model_module_version": "1.5.0",
            "_model_name": "DropdownModel",
            "_options_labels": [
              "ALL",
              "0",
              "1",
              "2",
              "3"
            ],
            "_view_count": null,
            "_view_module": "@jupyter-widgets/controls",
            "_view_module_version": "1.5.0",
            "_view_name": "DropdownView",
            "description": "No. of Stops",
            "description_tooltip": null,
            "disabled": false,
            "index": 0,
            "layout": "IPY_MODEL_727731534fa94b008210580c68db7ca9",
            "style": "IPY_MODEL_ab018486912043dd98b85d941adaab6a"
          }
        },
        "9069cc7bcb4b48ae9b890e26fa391a61": {
          "model_module": "@jupyter-widgets/controls",
          "model_module_version": "1.5.0",
          "model_name": "SliderStyleModel",
          "state": {
            "_model_module": "@jupyter-widgets/controls",
            "_model_module_version": "1.5.0",
            "_model_name": "SliderStyleModel",
            "_view_count": null,
            "_view_module": "@jupyter-widgets/base",
            "_view_module_version": "1.2.0",
            "_view_name": "StyleView",
            "description_width": "initial",
            "handle_color": null
          }
        },
        "997feaa104d048d8bbd18e00ae5932c3": {
          "model_module": "@jupyter-widgets/base",
          "model_module_version": "1.2.0",
          "model_name": "LayoutModel",
          "state": {
            "_model_module": "@jupyter-widgets/base",
            "_model_module_version": "1.2.0",
            "_model_name": "LayoutModel",
            "_view_count": null,
            "_view_module": "@jupyter-widgets/base",
            "_view_module_version": "1.2.0",
            "_view_name": "LayoutView",
            "align_content": null,
            "align_items": null,
            "align_self": null,
            "border": null,
            "bottom": null,
            "display": null,
            "flex": null,
            "flex_flow": null,
            "grid_area": null,
            "grid_auto_columns": null,
            "grid_auto_flow": null,
            "grid_auto_rows": null,
            "grid_column": null,
            "grid_gap": null,
            "grid_row": null,
            "grid_template_areas": null,
            "grid_template_columns": null,
            "grid_template_rows": null,
            "height": null,
            "justify_content": null,
            "justify_items": null,
            "left": null,
            "margin": null,
            "max_height": null,
            "max_width": null,
            "min_height": null,
            "min_width": null,
            "object_fit": null,
            "object_position": null,
            "order": null,
            "overflow": null,
            "overflow_x": null,
            "overflow_y": null,
            "padding": null,
            "right": null,
            "top": null,
            "visibility": null,
            "width": "50%"
          }
        },
        "ab018486912043dd98b85d941adaab6a": {
          "model_module": "@jupyter-widgets/controls",
          "model_module_version": "1.5.0",
          "model_name": "DescriptionStyleModel",
          "state": {
            "_model_module": "@jupyter-widgets/controls",
            "_model_module_version": "1.5.0",
            "_model_name": "DescriptionStyleModel",
            "_view_count": null,
            "_view_module": "@jupyter-widgets/base",
            "_view_module_version": "1.2.0",
            "_view_name": "StyleView",
            "description_width": "initial"
          }
        },
        "b56d66f7a0e447dba1598d5e1eacee55": {
          "model_module": "@jupyter-widgets/base",
          "model_module_version": "1.2.0",
          "model_name": "LayoutModel",
          "state": {
            "_model_module": "@jupyter-widgets/base",
            "_model_module_version": "1.2.0",
            "_model_name": "LayoutModel",
            "_view_count": null,
            "_view_module": "@jupyter-widgets/base",
            "_view_module_version": "1.2.0",
            "_view_name": "LayoutView",
            "align_content": null,
            "align_items": null,
            "align_self": null,
            "border": null,
            "bottom": null,
            "display": null,
            "flex": null,
            "flex_flow": null,
            "grid_area": null,
            "grid_auto_columns": null,
            "grid_auto_flow": null,
            "grid_auto_rows": null,
            "grid_column": null,
            "grid_gap": null,
            "grid_row": null,
            "grid_template_areas": null,
            "grid_template_columns": null,
            "grid_template_rows": null,
            "height": null,
            "justify_content": null,
            "justify_items": null,
            "left": null,
            "margin": null,
            "max_height": null,
            "max_width": null,
            "min_height": null,
            "min_width": null,
            "object_fit": null,
            "object_position": null,
            "order": null,
            "overflow": null,
            "overflow_x": null,
            "overflow_y": null,
            "padding": null,
            "right": null,
            "top": null,
            "visibility": null,
            "width": null
          }
        },
        "b57d8fc9c1eb4d759c6efa2239388fe0": {
          "model_module": "@jupyter-widgets/base",
          "model_module_version": "1.2.0",
          "model_name": "LayoutModel",
          "state": {
            "_model_module": "@jupyter-widgets/base",
            "_model_module_version": "1.2.0",
            "_model_name": "LayoutModel",
            "_view_count": null,
            "_view_module": "@jupyter-widgets/base",
            "_view_module_version": "1.2.0",
            "_view_name": "LayoutView",
            "align_content": null,
            "align_items": null,
            "align_self": null,
            "border": null,
            "bottom": null,
            "display": null,
            "flex": null,
            "flex_flow": null,
            "grid_area": null,
            "grid_auto_columns": null,
            "grid_auto_flow": null,
            "grid_auto_rows": null,
            "grid_column": null,
            "grid_gap": null,
            "grid_row": null,
            "grid_template_areas": null,
            "grid_template_columns": null,
            "grid_template_rows": null,
            "height": null,
            "justify_content": null,
            "justify_items": null,
            "left": null,
            "margin": null,
            "max_height": null,
            "max_width": null,
            "min_height": null,
            "min_width": null,
            "object_fit": null,
            "object_position": null,
            "order": null,
            "overflow": null,
            "overflow_x": null,
            "overflow_y": null,
            "padding": null,
            "right": null,
            "top": null,
            "visibility": null,
            "width": null
          }
        },
        "bffaf182fa7e46d18763ea6d4940a386": {
          "model_module": "@jupyter-widgets/controls",
          "model_module_version": "1.5.0",
          "model_name": "FloatRangeSliderModel",
          "state": {
            "_dom_classes": [],
            "_model_module": "@jupyter-widgets/controls",
            "_model_module_version": "1.5.0",
            "_model_name": "FloatRangeSliderModel",
            "_view_count": null,
            "_view_module": "@jupyter-widgets/controls",
            "_view_module_version": "1.5.0",
            "_view_name": "FloatRangeSliderView",
            "continuous_update": false,
            "description": "Price Range($):",
            "description_tooltip": null,
            "disabled": false,
            "layout": "IPY_MODEL_50bc3b8b2d8c49bbabccfcf400fb005f",
            "max": 2026,
            "min": 27,
            "orientation": "horizontal",
            "readout": true,
            "readout_format": ".1f",
            "step": 1,
            "style": "IPY_MODEL_9069cc7bcb4b48ae9b890e26fa391a61",
            "value": [
              27,
              2026
            ]
          }
        },
        "cdea307e1fa84e0aad309fd217370e3e": {
          "model_module": "@jupyter-widgets/controls",
          "model_module_version": "1.5.0",
          "model_name": "DescriptionStyleModel",
          "state": {
            "_model_module": "@jupyter-widgets/controls",
            "_model_module_version": "1.5.0",
            "_model_name": "DescriptionStyleModel",
            "_view_count": null,
            "_view_module": "@jupyter-widgets/base",
            "_view_module_version": "1.2.0",
            "_view_name": "StyleView",
            "description_width": "initial"
          }
        },
        "ce1488b37c5c410091a8988ceb196425": {
          "model_module": "@jupyter-widgets/controls",
          "model_module_version": "1.5.0",
          "model_name": "DropdownModel",
          "state": {
            "_dom_classes": [],
            "_model_module": "@jupyter-widgets/controls",
            "_model_module_version": "1.5.0",
            "_model_name": "DropdownModel",
            "_options_labels": [
              "Cheapest",
              "Fastest"
            ],
            "_view_count": null,
            "_view_module": "@jupyter-widgets/controls",
            "_view_module_version": "1.5.0",
            "_view_name": "DropdownView",
            "description": "Ranking Strategy:",
            "description_tooltip": null,
            "disabled": false,
            "index": 0,
            "layout": "IPY_MODEL_997feaa104d048d8bbd18e00ae5932c3",
            "style": "IPY_MODEL_d1317667a34243ca9e323a3c195986e4"
          }
        },
        "d1317667a34243ca9e323a3c195986e4": {
          "model_module": "@jupyter-widgets/controls",
          "model_module_version": "1.5.0",
          "model_name": "DescriptionStyleModel",
          "state": {
            "_model_module": "@jupyter-widgets/controls",
            "_model_module_version": "1.5.0",
            "_model_name": "DescriptionStyleModel",
            "_view_count": null,
            "_view_module": "@jupyter-widgets/base",
            "_view_module_version": "1.2.0",
            "_view_name": "StyleView",
            "description_width": "initial"
          }
        },
        "e64e6b131cd9459ba2909516664f0823": {
          "model_module": "@jupyter-widgets/controls",
          "model_module_version": "1.5.0",
          "model_name": "TextModel",
          "state": {
            "_dom_classes": [],
            "_model_module": "@jupyter-widgets/controls",
            "_model_module_version": "1.5.0",
            "_model_name": "TextModel",
            "_view_count": null,
            "_view_module": "@jupyter-widgets/controls",
            "_view_module_version": "1.5.0",
            "_view_name": "TextView",
            "continuous_update": true,
            "description": "Maximum Layover Duration in Hours(e.g. 1.2):",
            "description_tooltip": null,
            "disabled": false,
            "layout": "IPY_MODEL_f46d02724b3e4255bbe4ac1930f6d20e",
            "placeholder": "total accepted layover time in Hours(e.g. 1.2)",
            "style": "IPY_MODEL_291c467baffb42c3b7c70a8556e314a5",
            "value": "1000"
          }
        },
        "e77a3998dad744fdaefc0b00cfe1265b": {
          "model_module": "@jupyter-widgets/controls",
          "model_module_version": "1.5.0",
          "model_name": "DropdownModel",
          "state": {
            "_dom_classes": [],
            "_model_module": "@jupyter-widgets/controls",
            "_model_module_version": "1.5.0",
            "_model_name": "DropdownModel",
            "_options_labels": [
              "00",
              "01",
              "02",
              "03",
              "04",
              "05",
              "06",
              "07",
              "08",
              "09",
              "10",
              "11",
              "12",
              "13",
              "14",
              "15",
              "16",
              "17",
              "18",
              "19",
              "20",
              "21",
              "22",
              "23"
            ],
            "_view_count": null,
            "_view_module": "@jupyter-widgets/controls",
            "_view_module_version": "1.5.0",
            "_view_name": "DropdownView",
            "description": "Earliest Available Time:",
            "description_tooltip": null,
            "disabled": false,
            "index": 8,
            "layout": "IPY_MODEL_f7b2e1c07c754c568b134fd9d45d86d7",
            "style": "IPY_MODEL_34eba90057b74f22b2876e8cbb97d814"
          }
        },
        "e915a33930aa4e3e86d8d0423b5590b6": {
          "model_module": "@jupyter-widgets/controls",
          "model_module_version": "1.5.0",
          "model_name": "FloatRangeSliderModel",
          "state": {
            "_dom_classes": [],
            "_model_module": "@jupyter-widgets/controls",
            "_model_module_version": "1.5.0",
            "_model_name": "FloatRangeSliderModel",
            "_view_count": null,
            "_view_module": "@jupyter-widgets/controls",
            "_view_module_version": "1.5.0",
            "_view_name": "FloatRangeSliderView",
            "continuous_update": false,
            "description": "Trip Duration in Hours(e.g. 1.2):",
            "description_tooltip": null,
            "disabled": false,
            "layout": "IPY_MODEL_0e392c935ff44aed8fa0ef031e3f52ad",
            "max": 19.25,
            "min": 3.08,
            "orientation": "horizontal",
            "readout": true,
            "readout_format": ".1f",
            "step": 0.1,
            "style": "IPY_MODEL_2c1fc9af8f47458e9b461c2173ebcb8a",
            "value": [
              3.08,
              19.25
            ]
          }
        },
        "e9556f62d09740d8a1adf0271f2653f3": {
          "model_module": "@jupyter-widgets/controls",
          "model_module_version": "1.5.0",
          "model_name": "VBoxModel",
          "state": {
            "_dom_classes": [
              "widget-interact"
            ],
            "_model_module": "@jupyter-widgets/controls",
            "_model_module_version": "1.5.0",
            "_model_name": "VBoxModel",
            "_view_count": null,
            "_view_module": "@jupyter-widgets/controls",
            "_view_module_version": "1.5.0",
            "_view_name": "VBoxView",
            "box_style": "",
            "children": [
              "IPY_MODEL_bffaf182fa7e46d18763ea6d4940a386",
              "IPY_MODEL_e915a33930aa4e3e86d8d0423b5590b6",
              "IPY_MODEL_8c70280f6acc42b8b4e2d25bcbb0374f",
              "IPY_MODEL_e64e6b131cd9459ba2909516664f0823",
              "IPY_MODEL_2ec38f4e9be9432fa6648ac9ff666aca",
              "IPY_MODEL_ce1488b37c5c410091a8988ceb196425",
              "IPY_MODEL_e77a3998dad744fdaefc0b00cfe1265b",
              "IPY_MODEL_21349e7c42c34e7fa31789f5bcb5a45b"
            ],
            "layout": "IPY_MODEL_b57d8fc9c1eb4d759c6efa2239388fe0"
          }
        },
        "f46d02724b3e4255bbe4ac1930f6d20e": {
          "model_module": "@jupyter-widgets/base",
          "model_module_version": "1.2.0",
          "model_name": "LayoutModel",
          "state": {
            "_model_module": "@jupyter-widgets/base",
            "_model_module_version": "1.2.0",
            "_model_name": "LayoutModel",
            "_view_count": null,
            "_view_module": "@jupyter-widgets/base",
            "_view_module_version": "1.2.0",
            "_view_name": "LayoutView",
            "align_content": null,
            "align_items": null,
            "align_self": null,
            "border": null,
            "bottom": null,
            "display": null,
            "flex": null,
            "flex_flow": null,
            "grid_area": null,
            "grid_auto_columns": null,
            "grid_auto_flow": null,
            "grid_auto_rows": null,
            "grid_column": null,
            "grid_gap": null,
            "grid_row": null,
            "grid_template_areas": null,
            "grid_template_columns": null,
            "grid_template_rows": null,
            "height": null,
            "justify_content": null,
            "justify_items": null,
            "left": null,
            "margin": null,
            "max_height": null,
            "max_width": null,
            "min_height": null,
            "min_width": null,
            "object_fit": null,
            "object_position": null,
            "order": null,
            "overflow": null,
            "overflow_x": null,
            "overflow_y": null,
            "padding": null,
            "right": null,
            "top": null,
            "visibility": null,
            "width": "50%"
          }
        },
        "f7b2e1c07c754c568b134fd9d45d86d7": {
          "model_module": "@jupyter-widgets/base",
          "model_module_version": "1.2.0",
          "model_name": "LayoutModel",
          "state": {
            "_model_module": "@jupyter-widgets/base",
            "_model_module_version": "1.2.0",
            "_model_name": "LayoutModel",
            "_view_count": null,
            "_view_module": "@jupyter-widgets/base",
            "_view_module_version": "1.2.0",
            "_view_name": "LayoutView",
            "align_content": null,
            "align_items": null,
            "align_self": null,
            "border": null,
            "bottom": null,
            "display": null,
            "flex": null,
            "flex_flow": null,
            "grid_area": null,
            "grid_auto_columns": null,
            "grid_auto_flow": null,
            "grid_auto_rows": null,
            "grid_column": null,
            "grid_gap": null,
            "grid_row": null,
            "grid_template_areas": null,
            "grid_template_columns": null,
            "grid_template_rows": null,
            "height": null,
            "justify_content": null,
            "justify_items": null,
            "left": null,
            "margin": null,
            "max_height": null,
            "max_width": null,
            "min_height": null,
            "min_width": null,
            "object_fit": null,
            "object_position": null,
            "order": null,
            "overflow": null,
            "overflow_x": null,
            "overflow_y": null,
            "padding": null,
            "right": null,
            "top": null,
            "visibility": null,
            "width": "50%"
          }
        }
      }
    }
  },
  "nbformat": 4,
  "nbformat_minor": 0
}
